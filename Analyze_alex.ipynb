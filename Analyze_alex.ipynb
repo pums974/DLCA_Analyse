{
 "cells": [
  {
   "cell_type": "code",
   "execution_count": 1,
   "metadata": {},
   "outputs": [],
   "source": [
    "# dependencies for the script\n",
    "#!pip install matplotlib pandas h5py lxml\n",
    "%load_ext autoreload"
   ]
  },
  {
   "cell_type": "code",
   "execution_count": 2,
   "metadata": {},
   "outputs": [],
   "source": [
    "%autoreload 2"
   ]
  },
  {
   "cell_type": "code",
   "execution_count": 3,
   "metadata": {},
   "outputs": [],
   "source": [
    "from dask import dataframe as dd "
   ]
  },
  {
   "cell_type": "code",
   "execution_count": 4,
   "metadata": {},
   "outputs": [
    {
     "data": {
      "text/plain": [
       "<dask.context.set_options at 0x7f2ade5d7cc0>"
      ]
     },
     "execution_count": 4,
     "metadata": {},
     "output_type": "execute_result"
    }
   ],
   "source": [
    "import dask\n",
    "#dask.set_options(get=dask.threaded.get)  # overwrite default with threaded scheduler\n",
    "dask.set_options(get=dask.multiprocessing.get)  # overwrite default with multiprocessing scheduler"
   ]
  },
  {
   "cell_type": "code",
   "execution_count": 3,
   "metadata": {},
   "outputs": [
    {
     "data": {
      "text/html": [
       "<table style=\"border: 2px solid white;\">\n",
       "<tr>\n",
       "<td style=\"vertical-align: top; border: 0px solid white\">\n",
       "<h3>Client</h3>\n",
       "<ul>\n",
       "  <li><b>Scheduler: </b>tcp://127.0.0.1:46048\n",
       "  <li><b>Dashboard: </b><a href='http://127.0.0.1:8787/status' target='_blank'>http://127.0.0.1:8787/status</a>\n",
       "</ul>\n",
       "</td>\n",
       "<td style=\"vertical-align: top; border: 0px solid white\">\n",
       "<h3>Cluster</h3>\n",
       "<ul>\n",
       "  <li><b>Workers: </b>64</li>\n",
       "  <li><b>Cores: </b>64</li>\n",
       "  <li><b>Memory: </b>405.47 GB</li>\n",
       "</ul>\n",
       "</td>\n",
       "</tr>\n",
       "</table>"
      ],
      "text/plain": [
       "<Client: scheduler='tcp://127.0.0.1:46048' processes=64 cores=64>"
      ]
     },
     "execution_count": 3,
     "metadata": {},
     "output_type": "execute_result"
    }
   ],
   "source": [
    "from dask.distributed import Client\n",
    "client = Client()  # start distributed scheduler locally.  Launch dashboard\n",
    "client"
   ]
  },
  {
   "cell_type": "code",
   "execution_count": 5,
   "metadata": {},
   "outputs": [
    {
     "name": "stderr",
     "output_type": "stream",
     "text": [
      "/home/coria.fr/pouxa/DLCA-light/python-analysis/venv/lib64/python3.6/site-packages/h5py/__init__.py:36: FutureWarning: Conversion of the second argument of issubdtype from `float` to `np.floating` is deprecated. In future, it will be treated as `np.float64 == np.dtype(float).type`.\n",
      "  from ._conv import register_converters as _register_converters\n"
     ]
    }
   ],
   "source": [
    "from pathlib import Path\n",
    "import numpy as np\n",
    "import pandas as pd\n",
    "from DLCA_Reader import DLCA"
   ]
  },
  {
   "cell_type": "code",
   "execution_count": 6,
   "metadata": {},
   "outputs": [
    {
     "name": "stdout",
     "output_type": "stream",
     "text": [
      "CPU times: user 246 ms, sys: 79.6 ms, total: 325 ms\n",
      "Wall time: 326 ms\n"
     ]
    }
   ],
   "source": [
    "%%time\n",
    "# The folder with all .h5 and .xmf files\n",
    "data_dir = Path(\"data/\")\n",
    "#data_dir = Path(\"data/\")\n",
    "\n",
    "# Read all data (~30s but the more data the longer)\n",
    "metadata, times, Spheres, Aggregates = DLCA(data_dir).read(dask=True)\n",
    "\n",
    "#Spheres = miSpheres.sort_values([\"Time\",'Label'])"
   ]
  },
  {
   "cell_type": "code",
   "execution_count": 29,
   "metadata": {
    "scrolled": true
   },
   "outputs": [
    {
     "name": "stdout",
     "output_type": "stream",
     "text": [
      "Dask DataFrame Structure:\n",
      "                 Label     Posx     Posy     Posz   Radius\n",
      "npartitions=100                                           \n",
      "                 int64  float64  float64  float64  float64\n",
      "                   ...      ...      ...      ...      ...\n",
      "...                ...      ...      ...      ...      ...\n",
      "                   ...      ...      ...      ...      ...\n",
      "                   ...      ...      ...      ...      ...\n",
      "Dask Name: read-hdf, 100 tasks\n"
     ]
    }
   ],
   "source": [
    "# Data are well organized\n",
    "# Looks a lot like an excel file\n",
    "print(Spheres)"
   ]
  },
  {
   "cell_type": "code",
   "execution_count": 72,
   "metadata": {
    "scrolled": true
   },
   "outputs": [
    {
     "name": "stdout",
     "output_type": "stream",
     "text": [
      "               Time        Deltat            Dm  Np          Posx  \\\n",
      "Label                                                               \n",
      "0      0.000000e+00  4.329293e-08  1.101216e-08   1  3.386984e-07   \n",
      "0      1.167890e-07  4.329293e-08  1.101216e-08   1  3.386984e-07   \n",
      "0      1.203820e-07  4.329293e-08  1.101216e-08   1  3.386984e-07   \n",
      "0      1.296380e-07  4.329293e-08  1.101216e-08   1  3.386984e-07   \n",
      "0      1.421640e-07  4.329293e-08  1.101216e-08   1  3.386984e-07   \n",
      "0      1.479800e-07  4.329293e-08  1.101216e-08   1  3.386984e-07   \n",
      "0      1.591620e-07  4.329293e-08  1.101216e-08   1  3.386984e-07   \n",
      "0      1.640540e-07  4.329293e-08  1.101216e-08   1  3.386984e-07   \n",
      "0      1.711360e-07  4.329293e-08  1.101216e-08   1  2.818241e-07   \n",
      "0      1.760880e-07  4.329293e-08  1.101216e-08   1  2.818241e-07   \n",
      "0      1.775370e-07  4.329293e-08  1.101216e-08   1  2.818241e-07   \n",
      "0      1.921010e-07  4.329293e-08  1.101216e-08   1  2.078518e-07   \n",
      "0      1.933150e-07  4.329293e-08  1.101216e-08   1  2.078518e-07   \n",
      "0      2.008710e-07  4.329293e-08  1.101216e-08   1  2.078518e-07   \n",
      "0      3.028500e-09  4.329293e-08  1.101216e-08   1  3.386984e-07   \n",
      "0      2.028680e-07  4.329293e-08  1.101216e-08   1  1.436741e-07   \n",
      "0      2.051960e-07  4.329293e-08  1.101216e-08   1  1.436741e-07   \n",
      "0      2.137980e-07  4.329293e-08  1.101216e-08   1  1.436741e-07   \n",
      "0      2.391780e-07  4.329293e-08  1.101216e-08   1  1.436741e-07   \n",
      "0      2.400400e-07  4.329293e-08  1.101216e-08   1  1.436741e-07   \n",
      "0      2.468160e-07  4.329293e-08  1.101216e-08   1  1.436741e-07   \n",
      "0      2.614300e-07  4.329293e-08  1.101216e-08   1  1.436741e-07   \n",
      "0      2.778530e-07  4.329293e-08  1.101216e-08   1  1.436741e-07   \n",
      "0      2.807130e-07  4.329293e-08  1.101216e-08   1  1.436741e-07   \n",
      "0      2.960450e-07  4.329293e-08  1.101216e-08   1  1.436741e-07   \n",
      "0      3.124480e-07  4.329293e-08  1.101216e-08   1  1.436741e-07   \n",
      "0      3.134290e-07  4.329293e-08  1.101216e-08   1  1.436741e-07   \n",
      "0      3.141730e-07  4.329293e-08  1.101216e-08   1  1.436741e-07   \n",
      "0      3.220530e-07  4.329293e-08  1.101216e-08   1  1.436741e-07   \n",
      "0      3.274730e-07  4.329293e-08  1.101216e-08   1  1.436741e-07   \n",
      "...             ...           ...           ...  ..           ...   \n",
      "92     5.979550e-09  3.871840e-08  1.070854e-08   1  2.389156e-07   \n",
      "92     8.709860e-09  1.656192e-08  8.657870e-09   1  3.687609e-07   \n",
      "93     6.307480e-09  3.805805e-08  1.066252e-08   1  2.412862e-07   \n",
      "93     0.000000e+00  4.172435e-08  1.091088e-08   1  1.655978e-07   \n",
      "93     3.028500e-09  3.871840e-08  1.070854e-08   1  1.183882e-07   \n",
      "93     8.018350e-09  1.656192e-08  8.657870e-09   1  3.687609e-07   \n",
      "93     8.709860e-09  3.571034e-08  1.049390e-08   1  3.686896e-07   \n",
      "93     5.979550e-09  3.805805e-08  1.066252e-08   1  2.412862e-07   \n",
      "93     1.820240e-08  1.451540e-08  8.376731e-09   1  2.099006e-07   \n",
      "94     8.018350e-09  3.571034e-08  1.049390e-08   1  3.686896e-07   \n",
      "94     3.028500e-09  3.805805e-08  1.066252e-08   1  2.412862e-07   \n",
      "94     0.000000e+00  3.871840e-08  1.070854e-08   1  1.183882e-07   \n",
      "94     8.709860e-09  1.451540e-08  8.376731e-09   1  2.099006e-07   \n",
      "94     6.307480e-09  1.656192e-08  8.657870e-09   1  8.501160e-08   \n",
      "94     5.979550e-09  1.656192e-08  8.657870e-09   1  8.501160e-08   \n",
      "95     5.979550e-09  3.571034e-08  1.049390e-08   1  3.686896e-07   \n",
      "95     3.028500e-09  1.656192e-08  8.657870e-09   1  8.501160e-08   \n",
      "95     0.000000e+00  3.805805e-08  1.066252e-08   1  1.981848e-08   \n",
      "95     8.018350e-09  1.451540e-08  8.376731e-09   1  2.099006e-07   \n",
      "95     6.307480e-09  3.571034e-08  1.049390e-08   1  3.686896e-07   \n",
      "96     5.979550e-09  1.451540e-08  8.376731e-09   1  2.099006e-07   \n",
      "96     0.000000e+00  1.656192e-08  8.657870e-09   1  8.501160e-08   \n",
      "96     6.307480e-09  1.451540e-08  8.376731e-09   1  2.099006e-07   \n",
      "96     3.028500e-09  3.571034e-08  1.049390e-08   1  4.013457e-08   \n",
      "97     0.000000e+00  3.571034e-08  1.049390e-08   1  4.013457e-08   \n",
      "97     5.979550e-09  2.794911e-08  9.869492e-09   1  1.845154e-07   \n",
      "97     3.028500e-09  1.451540e-08  8.376731e-09   1  3.261643e-07   \n",
      "98     0.000000e+00  1.451540e-08  8.376731e-09   1  3.261643e-07   \n",
      "98     3.028500e-09  2.794911e-08  9.869492e-09   1  1.845154e-07   \n",
      "99     0.000000e+00  2.794911e-08  9.869492e-09   1  1.845154e-07   \n",
      "\n",
      "               Posy          Posz            Rg          Rmax       Surface  \\\n",
      "Label                                                                         \n",
      "0      1.589845e-07  3.156847e-07  4.667329e-09  6.025496e-09  4.562422e-16   \n",
      "0      1.589845e-07  3.156847e-07  4.667329e-09  6.025496e-09  4.562422e-16   \n",
      "0      1.589845e-07  3.156847e-07  4.667329e-09  6.025496e-09  4.562422e-16   \n",
      "0      1.589845e-07  3.156847e-07  4.667329e-09  6.025496e-09  4.562422e-16   \n",
      "0      1.589845e-07  3.156847e-07  4.667329e-09  6.025496e-09  4.562422e-16   \n",
      "0      1.589845e-07  3.156847e-07  4.667329e-09  6.025496e-09  4.562422e-16   \n",
      "0      1.589845e-07  3.156847e-07  4.667329e-09  6.025496e-09  4.562422e-16   \n",
      "0      1.589845e-07  3.156847e-07  4.667329e-09  6.025496e-09  4.562422e-16   \n",
      "0      9.706754e-09  3.000642e-07  4.667329e-09  6.025496e-09  4.562422e-16   \n",
      "0      9.706754e-09  3.000642e-07  4.667329e-09  6.025496e-09  4.562422e-16   \n",
      "0      9.706754e-09  3.000642e-07  4.667329e-09  6.025496e-09  4.562422e-16   \n",
      "0      3.033707e-07  1.029689e-07  4.667329e-09  6.025496e-09  4.562422e-16   \n",
      "0      3.033707e-07  1.029689e-07  4.667329e-09  6.025496e-09  4.562422e-16   \n",
      "0      3.033707e-07  1.029689e-07  4.667329e-09  6.025496e-09  4.562422e-16   \n",
      "0      1.589845e-07  3.156847e-07  4.667329e-09  6.025496e-09  4.562422e-16   \n",
      "0      1.720443e-07  3.187241e-07  4.667329e-09  6.025496e-09  4.562422e-16   \n",
      "0      1.720443e-07  3.187241e-07  4.667329e-09  6.025496e-09  4.562422e-16   \n",
      "0      1.720443e-07  3.187241e-07  4.667329e-09  6.025496e-09  4.562422e-16   \n",
      "0      1.720443e-07  3.187241e-07  4.667329e-09  6.025496e-09  4.562422e-16   \n",
      "0      1.720443e-07  3.187241e-07  4.667329e-09  6.025496e-09  4.562422e-16   \n",
      "0      1.720443e-07  3.187241e-07  4.667329e-09  6.025496e-09  4.562422e-16   \n",
      "0      1.720443e-07  3.187241e-07  4.667329e-09  6.025496e-09  4.562422e-16   \n",
      "0      1.720443e-07  3.187241e-07  4.667329e-09  6.025496e-09  4.562422e-16   \n",
      "0      1.720443e-07  3.187241e-07  4.667329e-09  6.025496e-09  4.562422e-16   \n",
      "0      1.720443e-07  3.187241e-07  4.667329e-09  6.025496e-09  4.562422e-16   \n",
      "0      1.720443e-07  3.187241e-07  4.667329e-09  6.025496e-09  4.562422e-16   \n",
      "0      1.720443e-07  3.187241e-07  4.667329e-09  6.025496e-09  4.562422e-16   \n",
      "0      1.720443e-07  3.187241e-07  4.667329e-09  6.025496e-09  4.562422e-16   \n",
      "0      1.720443e-07  3.187241e-07  4.667329e-09  6.025496e-09  4.562422e-16   \n",
      "0      1.720443e-07  3.187241e-07  4.667329e-09  6.025496e-09  4.562422e-16   \n",
      "...             ...           ...           ...           ...           ...   \n",
      "92     2.487352e-07  4.303235e-08  4.413861e-09  5.698270e-09  4.080335e-16   \n",
      "92     3.314213e-07  2.590580e-07  2.886790e-09  3.726830e-09  1.745377e-16   \n",
      "93     1.275294e-08  3.491178e-07  4.376059e-09  5.649468e-09  4.010744e-16   \n",
      "93     2.180306e-09  3.157584e-07  4.581996e-09  5.915332e-09  4.397118e-16   \n",
      "93     4.622515e-08  3.489164e-07  4.413861e-09  5.698270e-09  4.080335e-16   \n",
      "93     3.314213e-07  2.590580e-07  2.886790e-09  3.726830e-09  1.745377e-16   \n",
      "93     3.598182e-07  3.722881e-09  4.238937e-09  5.472444e-09  3.763331e-16   \n",
      "93     1.275294e-08  3.491178e-07  4.376059e-09  5.649468e-09  4.010744e-16   \n",
      "93     2.969100e-07  1.471947e-11  2.702554e-09  3.488982e-09  1.529704e-16   \n",
      "94     3.598182e-07  3.722881e-09  4.238937e-09  5.472444e-09  3.763331e-16   \n",
      "94     1.275294e-08  3.491178e-07  4.376059e-09  5.649468e-09  4.010744e-16   \n",
      "94     4.622515e-08  3.489164e-07  4.413861e-09  5.698270e-09  4.080335e-16   \n",
      "94     2.969100e-07  1.471947e-11  2.702554e-09  3.488982e-09  1.529704e-16   \n",
      "94     1.910372e-07  3.487738e-07  2.886790e-09  3.726830e-09  1.745377e-16   \n",
      "94     1.910372e-07  3.487738e-07  2.886790e-09  3.726830e-09  1.745377e-16   \n",
      "95     3.598182e-07  3.722881e-09  4.238937e-09  5.472444e-09  3.763331e-16   \n",
      "95     1.910372e-07  3.487738e-07  2.886790e-09  3.726830e-09  1.745377e-16   \n",
      "95     1.810443e-07  3.976669e-07  4.376059e-09  5.649468e-09  4.010744e-16   \n",
      "95     2.969100e-07  1.471947e-11  2.702554e-09  3.488982e-09  1.529704e-16   \n",
      "95     3.598182e-07  3.722881e-09  4.238937e-09  5.472444e-09  3.763331e-16   \n",
      "96     2.969100e-07  1.471947e-11  2.702554e-09  3.488982e-09  1.529704e-16   \n",
      "96     1.910372e-07  3.487738e-07  2.886790e-09  3.726830e-09  1.745377e-16   \n",
      "96     2.969100e-07  1.471947e-11  2.702554e-09  3.488982e-09  1.529704e-16   \n",
      "96     1.543539e-07  1.216474e-07  4.238937e-09  5.472444e-09  3.763331e-16   \n",
      "97     1.543539e-07  1.216474e-07  4.238937e-09  5.472444e-09  3.763331e-16   \n",
      "97     3.147854e-07  2.789914e-07  3.750110e-09  4.841371e-09  2.945415e-16   \n",
      "97     5.309207e-08  2.076414e-08  2.702554e-09  3.488982e-09  1.529704e-16   \n",
      "98     5.309207e-08  2.076414e-08  2.702554e-09  3.488982e-09  1.529704e-16   \n",
      "98     3.147854e-07  2.789914e-07  3.750110e-09  4.841371e-09  2.945415e-16   \n",
      "99     3.147854e-07  2.789914e-07  3.750110e-09  4.841371e-09  2.945415e-16   \n",
      "\n",
      "             Volume           lpm            Dg  \n",
      "Label                                            \n",
      "0      9.163619e-25  2.606064e-07  9.334658e-09  \n",
      "0      9.163619e-25  2.606064e-07  9.334658e-09  \n",
      "0      9.163619e-25  2.606064e-07  9.334658e-09  \n",
      "0      9.163619e-25  2.606064e-07  9.334658e-09  \n",
      "0      9.163619e-25  2.606064e-07  9.334658e-09  \n",
      "0      9.163619e-25  2.606064e-07  9.334658e-09  \n",
      "0      9.163619e-25  2.606064e-07  9.334658e-09  \n",
      "0      9.163619e-25  2.606064e-07  9.334658e-09  \n",
      "0      9.163619e-25  2.606064e-07  9.334658e-09  \n",
      "0      9.163619e-25  2.606064e-07  9.334658e-09  \n",
      "0      9.163619e-25  2.606064e-07  9.334658e-09  \n",
      "0      9.163619e-25  2.606064e-07  9.334658e-09  \n",
      "0      9.163619e-25  2.606064e-07  9.334658e-09  \n",
      "0      9.163619e-25  2.606064e-07  9.334658e-09  \n",
      "0      9.163619e-25  2.606064e-07  9.334658e-09  \n",
      "0      9.163619e-25  2.606064e-07  9.334658e-09  \n",
      "0      9.163619e-25  2.606064e-07  9.334658e-09  \n",
      "0      9.163619e-25  2.606064e-07  9.334658e-09  \n",
      "0      9.163619e-25  2.606064e-07  9.334658e-09  \n",
      "0      9.163619e-25  2.606064e-07  9.334658e-09  \n",
      "0      9.163619e-25  2.606064e-07  9.334658e-09  \n",
      "0      9.163619e-25  2.606064e-07  9.334658e-09  \n",
      "0      9.163619e-25  2.606064e-07  9.334658e-09  \n",
      "0      9.163619e-25  2.606064e-07  9.334658e-09  \n",
      "0      9.163619e-25  2.606064e-07  9.334658e-09  \n",
      "0      9.163619e-25  2.606064e-07  9.334658e-09  \n",
      "0      9.163619e-25  2.606064e-07  9.334658e-09  \n",
      "0      9.163619e-25  2.606064e-07  9.334658e-09  \n",
      "0      9.163619e-25  2.606064e-07  9.334658e-09  \n",
      "0      9.163619e-25  2.606064e-07  9.334658e-09  \n",
      "...             ...           ...           ...  \n",
      "92     7.750283e-25  2.534313e-07  8.827721e-09  \n",
      "92     2.168241e-25  2.049550e-07  5.773581e-09  \n",
      "93     7.552858e-25  2.523437e-07  8.752118e-09  \n",
      "93     8.670137e-25  2.582131e-07  9.163993e-09  \n",
      "93     7.750283e-25  2.534313e-07  8.827721e-09  \n",
      "93     2.168241e-25  2.049550e-07  5.773581e-09  \n",
      "93     6.864873e-25  2.483587e-07  8.477873e-09  \n",
      "93     7.552858e-25  2.523437e-07  8.752118e-09  \n",
      "93     1.779037e-25  1.983070e-07  5.405108e-09  \n",
      "94     6.864873e-25  2.483587e-07  8.477873e-09  \n",
      "94     7.552858e-25  2.523437e-07  8.752118e-09  \n",
      "94     7.750283e-25  2.534313e-07  8.827721e-09  \n",
      "94     1.779037e-25  1.983070e-07  5.405108e-09  \n",
      "94     2.168241e-25  2.049550e-07  5.773581e-09  \n",
      "94     2.168241e-25  2.049550e-07  5.773581e-09  \n",
      "95     6.864873e-25  2.483587e-07  8.477873e-09  \n",
      "95     2.168241e-25  2.049550e-07  5.773581e-09  \n",
      "95     7.552858e-25  2.523437e-07  8.752118e-09  \n",
      "95     1.779037e-25  1.983070e-07  5.405108e-09  \n",
      "95     6.864873e-25  2.483587e-07  8.477873e-09  \n",
      "96     1.779037e-25  1.983070e-07  5.405108e-09  \n",
      "96     2.168241e-25  2.049550e-07  5.773581e-09  \n",
      "96     1.779037e-25  1.983070e-07  5.405108e-09  \n",
      "96     6.864873e-25  2.483587e-07  8.477873e-09  \n",
      "97     6.864873e-25  2.483587e-07  8.477873e-09  \n",
      "97     4.753282e-25  2.336000e-07  7.500219e-09  \n",
      "97     1.779037e-25  1.983070e-07  5.405108e-09  \n",
      "98     1.779037e-25  1.983070e-07  5.405108e-09  \n",
      "98     4.753282e-25  2.336000e-07  7.500219e-09  \n",
      "99     4.753282e-25  2.336000e-07  7.500219e-09  \n",
      "\n",
      "[5049 rows x 13 columns]\n"
     ]
    }
   ],
   "source": [
    "# Data are well organized\n",
    "# Looks a lot like an excel file\n",
    "print(Aggregates.compute())"
   ]
  },
  {
   "cell_type": "code",
   "execution_count": 19,
   "metadata": {},
   "outputs": [],
   "source": [
    "# Create a new collumn in Spheres that contains the diameter of all spheres\n",
    "Spheres[\"Diameter\"] = 2 * Spheres[\"Radius\"]"
   ]
  },
  {
   "cell_type": "code",
   "execution_count": 20,
   "metadata": {},
   "outputs": [],
   "source": [
    "# Create a new collumn in Aggregates that contains the giration diameter of all aggregates\n",
    "Aggregates[\"Dg\"] = 2 * Aggregates[\"Rg\"]"
   ]
  },
  {
   "cell_type": "code",
   "execution_count": 83,
   "metadata": {
    "scrolled": true
   },
   "outputs": [
    {
     "name": "stdout",
     "output_type": "stream",
     "text": [
      "CPU times: user 76.9 ms, sys: 17.5 ms, total: 94.4 ms\n",
      "Wall time: 70.9 ms\n"
     ]
    }
   ],
   "source": [
    "%%time \n",
    "# Create a new collumn in Aggregates that contains the mean diameter the spheres of each aggregates\n",
    "# This also means that we need to compute\n",
    "# the mean of the diameter of all the spheres that shares the same time and the same label\n",
    "# Reminder : label is the unique number given to an aggregate to recognize it\n",
    "\n",
    "# This kind of operation is also a litle bit long (few seconds)\n",
    "Spheres_diam = Spheres.groupby(by=[\"Time\", \"Label\"])[\"Diameter\"].mean().reset_index(0).set_index(\"Label\")"
   ]
  },
  {
   "cell_type": "code",
   "execution_count": 87,
   "metadata": {},
   "outputs": [],
   "source": [
    "Aggregates[\"MeanDp\"] = Spheres_diam[\"Diameter\"]"
   ]
  },
  {
   "cell_type": "code",
   "execution_count": 88,
   "metadata": {},
   "outputs": [],
   "source": [
    "# Compute Dg over Dp\n",
    "Aggregates[\"DgOverDp\"] = Aggregates[\"Dg\"] / Aggregates[\"MeanDp\"]"
   ]
  },
  {
   "cell_type": "code",
   "execution_count": 18,
   "metadata": {
    "scrolled": false
   },
   "outputs": [
    {
     "ename": "ValueError",
     "evalue": "Not all divisions are known, can't align partitions. Please use `set_index` to set the index.",
     "output_type": "error",
     "traceback": [
      "\u001b[0;31m---------------------------------------------------------------------------\u001b[0m",
      "\u001b[0;31mValueError\u001b[0m                                Traceback (most recent call last)",
      "\u001b[0;32m<timed exec>\u001b[0m in \u001b[0;36m<module>\u001b[0;34m()\u001b[0m\n",
      "\u001b[0;32m~/DLCA-light/python-analysis/venv/lib64/python3.6/site-packages/dask/dataframe/core.py\u001b[0m in \u001b[0;36m<lambda>\u001b[0;34m(self, other)\u001b[0m\n\u001b[1;32m   1083\u001b[0m             \u001b[0;32mreturn\u001b[0m \u001b[0;32mlambda\u001b[0m \u001b[0mself\u001b[0m\u001b[0;34m,\u001b[0m \u001b[0mother\u001b[0m\u001b[0;34m:\u001b[0m \u001b[0melemwise\u001b[0m\u001b[0;34m(\u001b[0m\u001b[0mop\u001b[0m\u001b[0;34m,\u001b[0m \u001b[0mother\u001b[0m\u001b[0;34m,\u001b[0m \u001b[0mself\u001b[0m\u001b[0;34m)\u001b[0m\u001b[0;34m\u001b[0m\u001b[0m\n\u001b[1;32m   1084\u001b[0m         \u001b[0;32melse\u001b[0m\u001b[0;34m:\u001b[0m\u001b[0;34m\u001b[0m\u001b[0m\n\u001b[0;32m-> 1085\u001b[0;31m             \u001b[0;32mreturn\u001b[0m \u001b[0;32mlambda\u001b[0m \u001b[0mself\u001b[0m\u001b[0;34m,\u001b[0m \u001b[0mother\u001b[0m\u001b[0;34m:\u001b[0m \u001b[0melemwise\u001b[0m\u001b[0;34m(\u001b[0m\u001b[0mop\u001b[0m\u001b[0;34m,\u001b[0m \u001b[0mself\u001b[0m\u001b[0;34m,\u001b[0m \u001b[0mother\u001b[0m\u001b[0;34m)\u001b[0m\u001b[0;34m\u001b[0m\u001b[0m\n\u001b[0m\u001b[1;32m   1086\u001b[0m \u001b[0;34m\u001b[0m\u001b[0m\n\u001b[1;32m   1087\u001b[0m     def rolling(self, window, min_periods=None, freq=None, center=False,\n",
      "\u001b[0;32m~/DLCA-light/python-analysis/venv/lib64/python3.6/site-packages/dask/dataframe/core.py\u001b[0m in \u001b[0;36melemwise\u001b[0;34m(op, *args, **kwargs)\u001b[0m\n\u001b[1;32m   3048\u001b[0m \u001b[0;34m\u001b[0m\u001b[0m\n\u001b[1;32m   3049\u001b[0m     \u001b[0;32mfrom\u001b[0m \u001b[0;34m.\u001b[0m\u001b[0mmulti\u001b[0m \u001b[0;32mimport\u001b[0m \u001b[0m_maybe_align_partitions\u001b[0m\u001b[0;34m\u001b[0m\u001b[0m\n\u001b[0;32m-> 3050\u001b[0;31m     \u001b[0margs\u001b[0m \u001b[0;34m=\u001b[0m \u001b[0m_maybe_align_partitions\u001b[0m\u001b[0;34m(\u001b[0m\u001b[0margs\u001b[0m\u001b[0;34m)\u001b[0m\u001b[0;34m\u001b[0m\u001b[0m\n\u001b[0m\u001b[1;32m   3051\u001b[0m     \u001b[0mdasks\u001b[0m \u001b[0;34m=\u001b[0m \u001b[0;34m[\u001b[0m\u001b[0marg\u001b[0m \u001b[0;32mfor\u001b[0m \u001b[0marg\u001b[0m \u001b[0;32min\u001b[0m \u001b[0margs\u001b[0m \u001b[0;32mif\u001b[0m \u001b[0misinstance\u001b[0m\u001b[0;34m(\u001b[0m\u001b[0marg\u001b[0m\u001b[0;34m,\u001b[0m \u001b[0;34m(\u001b[0m\u001b[0m_Frame\u001b[0m\u001b[0;34m,\u001b[0m \u001b[0mScalar\u001b[0m\u001b[0;34m,\u001b[0m \u001b[0mArray\u001b[0m\u001b[0;34m)\u001b[0m\u001b[0;34m)\u001b[0m\u001b[0;34m]\u001b[0m\u001b[0;34m\u001b[0m\u001b[0m\n\u001b[1;32m   3052\u001b[0m     \u001b[0mdfs\u001b[0m \u001b[0;34m=\u001b[0m \u001b[0;34m[\u001b[0m\u001b[0mdf\u001b[0m \u001b[0;32mfor\u001b[0m \u001b[0mdf\u001b[0m \u001b[0;32min\u001b[0m \u001b[0mdasks\u001b[0m \u001b[0;32mif\u001b[0m \u001b[0misinstance\u001b[0m\u001b[0;34m(\u001b[0m\u001b[0mdf\u001b[0m\u001b[0;34m,\u001b[0m \u001b[0m_Frame\u001b[0m\u001b[0;34m)\u001b[0m\u001b[0;34m]\u001b[0m\u001b[0;34m\u001b[0m\u001b[0m\n",
      "\u001b[0;32m~/DLCA-light/python-analysis/venv/lib64/python3.6/site-packages/dask/dataframe/multi.py\u001b[0m in \u001b[0;36m_maybe_align_partitions\u001b[0;34m(args)\u001b[0m\n\u001b[1;32m    145\u001b[0m     \u001b[0mdivisions\u001b[0m \u001b[0;34m=\u001b[0m \u001b[0mdfs\u001b[0m\u001b[0;34m[\u001b[0m\u001b[0;36m0\u001b[0m\u001b[0;34m]\u001b[0m\u001b[0;34m.\u001b[0m\u001b[0mdivisions\u001b[0m\u001b[0;34m\u001b[0m\u001b[0m\n\u001b[1;32m    146\u001b[0m     \u001b[0;32mif\u001b[0m \u001b[0;32mnot\u001b[0m \u001b[0mall\u001b[0m\u001b[0;34m(\u001b[0m\u001b[0mdf\u001b[0m\u001b[0;34m.\u001b[0m\u001b[0mdivisions\u001b[0m \u001b[0;34m==\u001b[0m \u001b[0mdivisions\u001b[0m \u001b[0;32mfor\u001b[0m \u001b[0mdf\u001b[0m \u001b[0;32min\u001b[0m \u001b[0mdfs\u001b[0m\u001b[0;34m)\u001b[0m\u001b[0;34m:\u001b[0m\u001b[0;34m\u001b[0m\u001b[0m\n\u001b[0;32m--> 147\u001b[0;31m         \u001b[0mdfs2\u001b[0m \u001b[0;34m=\u001b[0m \u001b[0miter\u001b[0m\u001b[0;34m(\u001b[0m\u001b[0malign_partitions\u001b[0m\u001b[0;34m(\u001b[0m\u001b[0;34m*\u001b[0m\u001b[0mdfs\u001b[0m\u001b[0;34m)\u001b[0m\u001b[0;34m[\u001b[0m\u001b[0;36m0\u001b[0m\u001b[0;34m]\u001b[0m\u001b[0;34m)\u001b[0m\u001b[0;34m\u001b[0m\u001b[0m\n\u001b[0m\u001b[1;32m    148\u001b[0m         \u001b[0;32mreturn\u001b[0m \u001b[0;34m[\u001b[0m\u001b[0ma\u001b[0m \u001b[0;32mif\u001b[0m \u001b[0;32mnot\u001b[0m \u001b[0misinstance\u001b[0m\u001b[0;34m(\u001b[0m\u001b[0ma\u001b[0m\u001b[0;34m,\u001b[0m \u001b[0m_Frame\u001b[0m\u001b[0;34m)\u001b[0m \u001b[0;32melse\u001b[0m \u001b[0mnext\u001b[0m\u001b[0;34m(\u001b[0m\u001b[0mdfs2\u001b[0m\u001b[0;34m)\u001b[0m \u001b[0;32mfor\u001b[0m \u001b[0ma\u001b[0m \u001b[0;32min\u001b[0m \u001b[0margs\u001b[0m\u001b[0;34m]\u001b[0m\u001b[0;34m\u001b[0m\u001b[0m\n\u001b[1;32m    149\u001b[0m     \u001b[0;32mreturn\u001b[0m \u001b[0margs\u001b[0m\u001b[0;34m\u001b[0m\u001b[0m\n",
      "\u001b[0;32m~/DLCA-light/python-analysis/venv/lib64/python3.6/site-packages/dask/dataframe/multi.py\u001b[0m in \u001b[0;36malign_partitions\u001b[0;34m(*dfs)\u001b[0m\n\u001b[1;32m    101\u001b[0m         \u001b[0;32mraise\u001b[0m \u001b[0mValueError\u001b[0m\u001b[0;34m(\u001b[0m\u001b[0;34m\"dfs contains no DataFrame and Series\"\u001b[0m\u001b[0;34m)\u001b[0m\u001b[0;34m\u001b[0m\u001b[0m\n\u001b[1;32m    102\u001b[0m     \u001b[0;32mif\u001b[0m \u001b[0;32mnot\u001b[0m \u001b[0mall\u001b[0m\u001b[0;34m(\u001b[0m\u001b[0mdf\u001b[0m\u001b[0;34m.\u001b[0m\u001b[0mknown_divisions\u001b[0m \u001b[0;32mfor\u001b[0m \u001b[0mdf\u001b[0m \u001b[0;32min\u001b[0m \u001b[0mdfs1\u001b[0m\u001b[0;34m)\u001b[0m\u001b[0;34m:\u001b[0m\u001b[0;34m\u001b[0m\u001b[0m\n\u001b[0;32m--> 103\u001b[0;31m         raise ValueError(\"Not all divisions are known, can't align \"\n\u001b[0m\u001b[1;32m    104\u001b[0m                          \u001b[0;34m\"partitions. Please use `set_index` \"\u001b[0m\u001b[0;34m\u001b[0m\u001b[0m\n\u001b[1;32m    105\u001b[0m                          \"to set the index.\")\n",
      "\u001b[0;31mValueError\u001b[0m: Not all divisions are known, can't align partitions. Please use `set_index` to set the index."
     ]
    }
   ],
   "source": [
    "%%time \n",
    "\n",
    "# The same result could have been obtained with this one-liner (a litle bit faster)\n",
    "Aggregates[\"DgOverDp\"] = Aggregates[\"Rg\"] / Spheres.groupby(by=[\"Time\", \"Label\"])[\"Radius\"].mean().reset_index(0)"
   ]
  },
  {
   "cell_type": "code",
   "execution_count": 90,
   "metadata": {
    "scrolled": true
   },
   "outputs": [
    {
     "name": "stdout",
     "output_type": "stream",
     "text": [
      "Dask DataFrame Structure:\n",
      "                  Time   Deltat       Dm     Np     Posx     Posy     Posz       Rg     Rmax  Surface   Volume      lpm       Dg   MeanDP   MeanDp DgOverDp\n",
      "npartitions=2                                                                                                                                              \n",
      "0              float64  float64  float64  int32  float64  float64  float64  float64  float64  float64  float64  float64  float64  float64  float64  float64\n",
      "74                 ...      ...      ...    ...      ...      ...      ...      ...      ...      ...      ...      ...      ...      ...      ...      ...\n",
      "99                 ...      ...      ...    ...      ...      ...      ...      ...      ...      ...      ...      ...      ...      ...      ...      ...\n",
      "Dask Name: assign, 63 tasks\n"
     ]
    },
    {
     "ename": "KeyError",
     "evalue": "'Time'",
     "output_type": "error",
     "traceback": [
      "\u001b[0;31m---------------------------------------------------------------------------\u001b[0m",
      "\u001b[0;31mKeyError\u001b[0m                                  Traceback (most recent call last)",
      "\u001b[0;32m<ipython-input-90-02420617c157>\u001b[0m in \u001b[0;36m<module>\u001b[0;34m()\u001b[0m\n\u001b[1;32m      1\u001b[0m \u001b[0mprint\u001b[0m\u001b[0;34m(\u001b[0m\u001b[0mAggregates\u001b[0m\u001b[0;34m)\u001b[0m\u001b[0;34m\u001b[0m\u001b[0m\n\u001b[0;32m----> 2\u001b[0;31m \u001b[0mprint\u001b[0m\u001b[0;34m(\u001b[0m\u001b[0mAggregates\u001b[0m\u001b[0;34m[\u001b[0m\u001b[0;34m\"DgOverDp\"\u001b[0m\u001b[0;34m]\u001b[0m\u001b[0;34m.\u001b[0m\u001b[0mgroupby\u001b[0m\u001b[0;34m(\u001b[0m\u001b[0mby\u001b[0m\u001b[0;34m=\u001b[0m\u001b[0;34m\"Time\"\u001b[0m\u001b[0;34m)\u001b[0m\u001b[0;34m.\u001b[0m\u001b[0magg\u001b[0m\u001b[0;34m(\u001b[0m\u001b[0;34m(\u001b[0m\u001b[0mnp\u001b[0m\u001b[0;34m.\u001b[0m\u001b[0mmin\u001b[0m\u001b[0;34m,\u001b[0m\u001b[0mnp\u001b[0m\u001b[0;34m.\u001b[0m\u001b[0mmean\u001b[0m\u001b[0;34m,\u001b[0m\u001b[0mnp\u001b[0m\u001b[0;34m.\u001b[0m\u001b[0mmax\u001b[0m\u001b[0;34m)\u001b[0m\u001b[0;34m)\u001b[0m\u001b[0;34m)\u001b[0m\u001b[0;34m\u001b[0m\u001b[0m\n\u001b[0m",
      "\u001b[0;32m~/DLCA-light/python-analysis/venv/lib64/python3.6/site-packages/dask/dataframe/core.py\u001b[0m in \u001b[0;36mgroupby\u001b[0;34m(self, by, **kwargs)\u001b[0m\n\u001b[1;32m   1904\u001b[0m     \u001b[0;32mdef\u001b[0m \u001b[0mgroupby\u001b[0m\u001b[0;34m(\u001b[0m\u001b[0mself\u001b[0m\u001b[0;34m,\u001b[0m \u001b[0mby\u001b[0m\u001b[0;34m=\u001b[0m\u001b[0;32mNone\u001b[0m\u001b[0;34m,\u001b[0m \u001b[0;34m**\u001b[0m\u001b[0mkwargs\u001b[0m\u001b[0;34m)\u001b[0m\u001b[0;34m:\u001b[0m\u001b[0;34m\u001b[0m\u001b[0m\n\u001b[1;32m   1905\u001b[0m         \u001b[0;32mfrom\u001b[0m \u001b[0mdask\u001b[0m\u001b[0;34m.\u001b[0m\u001b[0mdataframe\u001b[0m\u001b[0;34m.\u001b[0m\u001b[0mgroupby\u001b[0m \u001b[0;32mimport\u001b[0m \u001b[0mSeriesGroupBy\u001b[0m\u001b[0;34m\u001b[0m\u001b[0m\n\u001b[0;32m-> 1906\u001b[0;31m         \u001b[0;32mreturn\u001b[0m \u001b[0mSeriesGroupBy\u001b[0m\u001b[0;34m(\u001b[0m\u001b[0mself\u001b[0m\u001b[0;34m,\u001b[0m \u001b[0mby\u001b[0m\u001b[0;34m=\u001b[0m\u001b[0mby\u001b[0m\u001b[0;34m,\u001b[0m \u001b[0;34m**\u001b[0m\u001b[0mkwargs\u001b[0m\u001b[0;34m)\u001b[0m\u001b[0;34m\u001b[0m\u001b[0m\n\u001b[0m\u001b[1;32m   1907\u001b[0m \u001b[0;34m\u001b[0m\u001b[0m\n\u001b[1;32m   1908\u001b[0m     \u001b[0;34m@\u001b[0m\u001b[0mderived_from\u001b[0m\u001b[0;34m(\u001b[0m\u001b[0mpd\u001b[0m\u001b[0;34m.\u001b[0m\u001b[0mSeries\u001b[0m\u001b[0;34m)\u001b[0m\u001b[0;34m\u001b[0m\u001b[0m\n",
      "\u001b[0;32m~/DLCA-light/python-analysis/venv/lib64/python3.6/site-packages/dask/dataframe/groupby.py\u001b[0m in \u001b[0;36m__init__\u001b[0;34m(self, df, by, slice)\u001b[0m\n\u001b[1;32m   1179\u001b[0m             \u001b[0;32melse\u001b[0m\u001b[0;34m:\u001b[0m\u001b[0;34m\u001b[0m\u001b[0m\n\u001b[1;32m   1180\u001b[0m                 \u001b[0;31m# raise error from pandas, if applicable\u001b[0m\u001b[0;34m\u001b[0m\u001b[0;34m\u001b[0m\u001b[0m\n\u001b[0;32m-> 1181\u001b[0;31m                 \u001b[0mdf\u001b[0m\u001b[0;34m.\u001b[0m\u001b[0m_meta\u001b[0m\u001b[0;34m.\u001b[0m\u001b[0mgroupby\u001b[0m\u001b[0;34m(\u001b[0m\u001b[0mby\u001b[0m\u001b[0;34m)\u001b[0m\u001b[0;34m\u001b[0m\u001b[0m\n\u001b[0m\u001b[1;32m   1182\u001b[0m \u001b[0;34m\u001b[0m\u001b[0m\n\u001b[1;32m   1183\u001b[0m         \u001b[0msuper\u001b[0m\u001b[0;34m(\u001b[0m\u001b[0mSeriesGroupBy\u001b[0m\u001b[0;34m,\u001b[0m \u001b[0mself\u001b[0m\u001b[0;34m)\u001b[0m\u001b[0;34m.\u001b[0m\u001b[0m__init__\u001b[0m\u001b[0;34m(\u001b[0m\u001b[0mdf\u001b[0m\u001b[0;34m,\u001b[0m \u001b[0mby\u001b[0m\u001b[0;34m=\u001b[0m\u001b[0mby\u001b[0m\u001b[0;34m,\u001b[0m \u001b[0mslice\u001b[0m\u001b[0;34m=\u001b[0m\u001b[0mslice\u001b[0m\u001b[0;34m)\u001b[0m\u001b[0;34m\u001b[0m\u001b[0m\n",
      "\u001b[0;32m~/DLCA-light/python-analysis/venv/lib64/python3.6/site-packages/pandas/core/generic.py\u001b[0m in \u001b[0;36mgroupby\u001b[0;34m(self, by, axis, level, as_index, sort, group_keys, squeeze, **kwargs)\u001b[0m\n\u001b[1;32m   5160\u001b[0m         return groupby(self, by=by, axis=axis, level=level, as_index=as_index,\n\u001b[1;32m   5161\u001b[0m                        \u001b[0msort\u001b[0m\u001b[0;34m=\u001b[0m\u001b[0msort\u001b[0m\u001b[0;34m,\u001b[0m \u001b[0mgroup_keys\u001b[0m\u001b[0;34m=\u001b[0m\u001b[0mgroup_keys\u001b[0m\u001b[0;34m,\u001b[0m \u001b[0msqueeze\u001b[0m\u001b[0;34m=\u001b[0m\u001b[0msqueeze\u001b[0m\u001b[0;34m,\u001b[0m\u001b[0;34m\u001b[0m\u001b[0m\n\u001b[0;32m-> 5162\u001b[0;31m                        **kwargs)\n\u001b[0m\u001b[1;32m   5163\u001b[0m \u001b[0;34m\u001b[0m\u001b[0m\n\u001b[1;32m   5164\u001b[0m     def asfreq(self, freq, method=None, how=None, normalize=False,\n",
      "\u001b[0;32m~/DLCA-light/python-analysis/venv/lib64/python3.6/site-packages/pandas/core/groupby.py\u001b[0m in \u001b[0;36mgroupby\u001b[0;34m(obj, by, **kwds)\u001b[0m\n\u001b[1;32m   1846\u001b[0m         \u001b[0;32mraise\u001b[0m \u001b[0mTypeError\u001b[0m\u001b[0;34m(\u001b[0m\u001b[0;34m'invalid type: %s'\u001b[0m \u001b[0;34m%\u001b[0m \u001b[0mtype\u001b[0m\u001b[0;34m(\u001b[0m\u001b[0mobj\u001b[0m\u001b[0;34m)\u001b[0m\u001b[0;34m)\u001b[0m\u001b[0;34m\u001b[0m\u001b[0m\n\u001b[1;32m   1847\u001b[0m \u001b[0;34m\u001b[0m\u001b[0m\n\u001b[0;32m-> 1848\u001b[0;31m     \u001b[0;32mreturn\u001b[0m \u001b[0mklass\u001b[0m\u001b[0;34m(\u001b[0m\u001b[0mobj\u001b[0m\u001b[0;34m,\u001b[0m \u001b[0mby\u001b[0m\u001b[0;34m,\u001b[0m \u001b[0;34m**\u001b[0m\u001b[0mkwds\u001b[0m\u001b[0;34m)\u001b[0m\u001b[0;34m\u001b[0m\u001b[0m\n\u001b[0m\u001b[1;32m   1849\u001b[0m \u001b[0;34m\u001b[0m\u001b[0m\n\u001b[1;32m   1850\u001b[0m \u001b[0;34m\u001b[0m\u001b[0m\n",
      "\u001b[0;32m~/DLCA-light/python-analysis/venv/lib64/python3.6/site-packages/pandas/core/groupby.py\u001b[0m in \u001b[0;36m__init__\u001b[0;34m(self, obj, keys, axis, level, grouper, exclusions, selection, as_index, sort, group_keys, squeeze, **kwargs)\u001b[0m\n\u001b[1;32m    514\u001b[0m                                                     \u001b[0mlevel\u001b[0m\u001b[0;34m=\u001b[0m\u001b[0mlevel\u001b[0m\u001b[0;34m,\u001b[0m\u001b[0;34m\u001b[0m\u001b[0m\n\u001b[1;32m    515\u001b[0m                                                     \u001b[0msort\u001b[0m\u001b[0;34m=\u001b[0m\u001b[0msort\u001b[0m\u001b[0;34m,\u001b[0m\u001b[0;34m\u001b[0m\u001b[0m\n\u001b[0;32m--> 516\u001b[0;31m                                                     mutated=self.mutated)\n\u001b[0m\u001b[1;32m    517\u001b[0m \u001b[0;34m\u001b[0m\u001b[0m\n\u001b[1;32m    518\u001b[0m         \u001b[0mself\u001b[0m\u001b[0;34m.\u001b[0m\u001b[0mobj\u001b[0m \u001b[0;34m=\u001b[0m \u001b[0mobj\u001b[0m\u001b[0;34m\u001b[0m\u001b[0m\n",
      "\u001b[0;32m~/DLCA-light/python-analysis/venv/lib64/python3.6/site-packages/pandas/core/groupby.py\u001b[0m in \u001b[0;36m_get_grouper\u001b[0;34m(obj, key, axis, level, sort, mutated, validate)\u001b[0m\n\u001b[1;32m   2932\u001b[0m                 \u001b[0min_axis\u001b[0m\u001b[0;34m,\u001b[0m \u001b[0mname\u001b[0m\u001b[0;34m,\u001b[0m \u001b[0mlevel\u001b[0m\u001b[0;34m,\u001b[0m \u001b[0mgpr\u001b[0m \u001b[0;34m=\u001b[0m \u001b[0;32mFalse\u001b[0m\u001b[0;34m,\u001b[0m \u001b[0;32mNone\u001b[0m\u001b[0;34m,\u001b[0m \u001b[0mgpr\u001b[0m\u001b[0;34m,\u001b[0m \u001b[0;32mNone\u001b[0m\u001b[0;34m\u001b[0m\u001b[0m\n\u001b[1;32m   2933\u001b[0m             \u001b[0;32melse\u001b[0m\u001b[0;34m:\u001b[0m\u001b[0;34m\u001b[0m\u001b[0m\n\u001b[0;32m-> 2934\u001b[0;31m                 \u001b[0;32mraise\u001b[0m \u001b[0mKeyError\u001b[0m\u001b[0;34m(\u001b[0m\u001b[0mgpr\u001b[0m\u001b[0;34m)\u001b[0m\u001b[0;34m\u001b[0m\u001b[0m\n\u001b[0m\u001b[1;32m   2935\u001b[0m         \u001b[0;32melif\u001b[0m \u001b[0misinstance\u001b[0m\u001b[0;34m(\u001b[0m\u001b[0mgpr\u001b[0m\u001b[0;34m,\u001b[0m \u001b[0mGrouper\u001b[0m\u001b[0;34m)\u001b[0m \u001b[0;32mand\u001b[0m \u001b[0mgpr\u001b[0m\u001b[0;34m.\u001b[0m\u001b[0mkey\u001b[0m \u001b[0;32mis\u001b[0m \u001b[0;32mnot\u001b[0m \u001b[0;32mNone\u001b[0m\u001b[0;34m:\u001b[0m\u001b[0;34m\u001b[0m\u001b[0m\n\u001b[1;32m   2936\u001b[0m             \u001b[0;31m# Add key to exclusions\u001b[0m\u001b[0;34m\u001b[0m\u001b[0;34m\u001b[0m\u001b[0m\n",
      "\u001b[0;31mKeyError\u001b[0m: 'Time'"
     ]
    }
   ],
   "source": [
    "print(Aggregates[\"DgOverDp\"].groupby(by=\"Time\").agg((np.min,np.mean,np.max)))"
   ]
  },
  {
   "cell_type": "code",
   "execution_count": null,
   "metadata": {},
   "outputs": [],
   "source": [
    "# Rename DgOverDp for ease of use\n",
    "Data = Aggregates[\"Dm\"] "
   ]
  },
  {
   "cell_type": "code",
   "execution_count": null,
   "metadata": {},
   "outputs": [],
   "source": [
    "%matplotlib notebook\n",
    "# this line was only for jupyter\n",
    "import matplotlib.pyplot as plt\n",
    "\n",
    "plt.figure()\n",
    "plt.plot(Data.groupby(\"Time\").mean())\n",
    "plt.show()"
   ]
  },
  {
   "cell_type": "code",
   "execution_count": null,
   "metadata": {},
   "outputs": [],
   "source": [
    "from scipy.optimize import minimize, minimize_scalar\n",
    "from scipy.integrate import simps\n",
    "def fit(datax, datay):\n",
    "   \n",
    "    def lognorm(x, s, loc):\n",
    "        #loc = datax[maxi]\n",
    "        pre = (np.sqrt(2*np.pi) * s)\n",
    "        a = -0.5 * ((np.log(x/loc)) / s)**2 \n",
    "        f= np.exp(a) / pre\n",
    "        return f/f.sum()\n",
    "    \n",
    "    def cost(param):\n",
    "        f = lognorm(datax, *param)\n",
    "        err = np.sqrt(simps((f - datay)**2))\n",
    "        return err\n",
    "    \n",
    "    maxi = np.argmax(datay)\n",
    "    \n",
    "    x0 = [0.5, datax[maxi]]\n",
    "    res = minimize(cost, x0, bounds=((None,None),(datax[0],datax[-1])),options={\"maxiter\":1000})\n",
    "    param = res.x\n",
    "    #res = minimize_scalar(cost)\n",
    "    \n",
    "    #print(datay.std(),datay.mean())\n",
    "    #print(x0, res.x)\n",
    "    #print(res.message)\n",
    "    res = lognorm(datax, *param)\n",
    "\n",
    "    return res, param\n",
    "    "
   ]
  },
  {
   "cell_type": "code",
   "execution_count": null,
   "metadata": {},
   "outputs": [],
   "source": [
    "def graph(bins, debut, fin):\n",
    "    \n",
    "    data = Data.loc[debut:fin, :]\n",
    "    \n",
    "    hist, bin_edges = np.histogram(data, bins=bins)\n",
    "    hist_norm = hist / hist.sum()\n",
    "    hist_cum = np.cumsum(hist_norm)\n",
    "    #ax.bar(bin_edges[:-1], hist_cum, width=np.diff(bin_edges), ec=\"k\", align=\"edge\", alpha = 0.2,\n",
    "    #       label=\"{:5.2e}s -> {:5.2e}s\".format(debut, fin))\n",
    "    x = (bin_edges[1:] +  bin_edges[:-1]) /2\n",
    "    \n",
    "    cfit, p = fit(x, hist_norm)\n",
    "    ccfit = np.cumsum(cfit)\n",
    "\n",
    "    #print(data.shape)\n",
    "    #fit = stats.lognorm.fit(data.values)\n",
    "    #print(fit)\n",
    "    #cfit = stats.lognorm.pdf(x, *fit)\n",
    "    #cfit = cfit / cfit.sum()\n",
    "    #ccfit = stats.lognorm.cdf(x, *fit)\n",
    "    axes[0].plot(x, hist_norm,'-o',\n",
    "               label=\"{:5.2e}s -> {:5.2e}s ({} Nagg)\".format(debut, fin, len(data)))\n",
    "    axes[1].plot(x, hist_cum,'-o',\n",
    "               label=r\"$\\alpha$ = {:5.2e}, $\\mu$ = {:5.2e}\".format(*p))\n",
    "    axes[0].plot(x, cfit,'k--')\n",
    "    axes[1].plot(x, ccfit,'k--')\n",
    "\n",
    "    #Dg.loc[debut:fin, :].plot.hist(ax=ax,\n",
    "    #                                 bins=bins,\n",
    "    #                                 logy=True,\n",
    "    #                                 logx=True,\n",
    "    #                                 label=\"{:5.2e}s -> {:5.2e}s\".format(debut, fin), cumulative=True)\n",
    "    return x, hist_norm"
   ]
  },
  {
   "cell_type": "code",
   "execution_count": null,
   "metadata": {},
   "outputs": [],
   "source": [
    "def find_nearest(array, value):\n",
    "    idx = np.searchsorted(array.values, value, side=\"left\")\n",
    "    if idx > 0 and (idx == len(array) or abs(value - array.iloc[idx-1]) < abs(value - array.iloc[idx])):\n",
    "        return idx-1\n",
    "    return idx"
   ]
  },
  {
   "cell_type": "code",
   "execution_count": null,
   "metadata": {
    "scrolled": false
   },
   "outputs": [],
   "source": [
    "%matplotlib notebook\n",
    "# this line was only for jupyter\n",
    "\n",
    "import matplotlib\n",
    "matplotlib.rcParams['text.usetex'] = False\n",
    "matplotlib.rcParams['text.latex.unicode'] = False\n",
    "import matplotlib.pyplot as plt\n",
    "from scipy import stats\n",
    "\n",
    "# Create a new figure (we need it to put all graphs on the same figure)\n",
    "fig, axes = plt.subplots(2,1,sharex=True)\n",
    "\n",
    "Nagg = Data.groupby(by=\"Time\").count()\n",
    "Nagg_cum = np.cumsum(Nagg)\n",
    "    \n",
    "# Split the time range in even parts\n",
    "split = \"Nagg\"\n",
    "if split==\"linear\":\n",
    "    limits = np.linspace(times[0], times[-1]/3, 5)\n",
    "elif split==\"geometric\":\n",
    "    limits = np.geomspace(times[1], times[-1], 5)\n",
    "elif split==\"Nagg\":\n",
    "\n",
    "    limits = np.linspace(Nagg_cum.iloc[0], Nagg_cum.iloc[-1], 500)\n",
    "    \n",
    "    f = np.vectorize(lambda x : find_nearest(Nagg_cum, x))\n",
    "    limits = times[f(limits)]\n",
    "\n",
    "elif split==\"Ndt\":\n",
    "    limits = np.linspace(0, len(times)-1, 5, dtype=int)\n",
    "    limits = times[limits]\n",
    "\n",
    "it = len(limits) - np.geomspace(1, len(limits)-1, 5, dtype=int)[::-1]\n",
    "limits_inf = limits[it-1]\n",
    "limits_sup = limits[it]\n",
    "#limits_inf[-1] = limits[-2]\n",
    "#limits_sup[-1] = times[-1]\n",
    "\n",
    "# Create the bins\n",
    "bins = np.geomspace(Data.min(), Data.max(),20)\n",
    "#bins = np.linspace(Dg.min(), Dg.max(),20)\n",
    "\n",
    "for debut, fin in zip(limits_inf, limits_sup):\n",
    "    x, y = graph(bins, debut, fin)\n",
    "        \n",
    "#graph(bins, limits[0], limits[1])\n",
    "#graph(bins, limits[-2], limits[-1])\n",
    "\n",
    "#ax.set_yscale('log')\n",
    "axes[0].set_xscale('log')\n",
    "axes[1].set_xscale('log')\n",
    "axes[0].legend()\n",
    "axes[1].legend()\n",
    "axes[0].grid()\n",
    "axes[1].grid()\n",
    "fig.subplots_adjust(hspace=0)\n",
    "plt.show()"
   ]
  },
  {
   "cell_type": "code",
   "execution_count": null,
   "metadata": {
    "scrolled": false
   },
   "outputs": [],
   "source": [
    "import matplotlib.animation\n",
    "\n",
    "# We can also make an animation\n",
    "\n",
    "fig, ax = plt.subplots()\n",
    "\n",
    "def animate(i):\n",
    "    ax.cla()\n",
    "    \n",
    "    ax.set_ylim((1e-1, 1e7))\n",
    "    ax.set_xlim((9e-1, 2e1))\n",
    "    \n",
    "    debut = limits[i]\n",
    "    fin = limits[i+1]\n",
    "    \n",
    "    # if last image, go further to be sure not to miss anything \n",
    "    if i == len(limits) - 1:\n",
    "        fin *= 2\n",
    "    DgOverDp.loc[debut:fin, :].plot.hist(ax=ax,\n",
    "                                         bins=bins,\n",
    "                                         logy=True,\n",
    "                                         logx=True)\n",
    "    ax.set_title(\"{:5.2e}s -> {:5.2e}s\".format(debut, fin))\n",
    "\n",
    "ani = matplotlib.animation.FuncAnimation(fig, animate, frames=len(limits)-1,repeat=False)\n",
    "\n",
    "plt.show()\n"
   ]
  },
  {
   "cell_type": "code",
   "execution_count": null,
   "metadata": {},
   "outputs": [],
   "source": [
    "from DLCA_Drawer import draw"
   ]
  },
  {
   "cell_type": "code",
   "execution_count": null,
   "metadata": {},
   "outputs": [],
   "source": [
    "def generator():\n",
    "    while True:\n",
    "        for time in times:\n",
    "            Positions = np.stack((Spheres[\"Posx\"].loc[0.,:],\n",
    "                                  Spheres[\"Posy\"].loc[0.,:],\n",
    "                                  Spheres[\"Posz\"].loc[0.,:]),axis=1)\n",
    "            radius = np.array(Spheres[\"Radius\"].loc[time,:])\n",
    "            color = np.array(Spheres[\"Label\"].loc[time,:])\n",
    "            yield Positions, radius, color\n",
    "    "
   ]
  },
  {
   "cell_type": "code",
   "execution_count": null,
   "metadata": {},
   "outputs": [],
   "source": [
    "draw(generator())"
   ]
  },
  {
   "cell_type": "code",
   "execution_count": null,
   "metadata": {},
   "outputs": [],
   "source": [
    "plt.savefig(\"test.png\")"
   ]
  },
  {
   "cell_type": "code",
   "execution_count": 68,
   "metadata": {},
   "outputs": [],
   "source": [
    "%load_ext line_profiler"
   ]
  },
  {
   "cell_type": "code",
   "execution_count": 7,
   "metadata": {},
   "outputs": [],
   "source": [
    "%load_ext Cython\n",
    "#%set_env CFLAGS=\"-Ofast -march=native -fvect-cost-model=cheap\" \\\n",
    "#                \"-fopenmp -Wno-unused-variable -Wno-cpp -Wno-maybe-uninitialized\""
   ]
  },
  {
   "cell_type": "code",
   "execution_count": 8,
   "metadata": {},
   "outputs": [],
   "source": [
    "%%cython\n",
    "# cython: language_level=3\n",
    "# cython: initializedcheck=False\n",
    "# cython: binding=True\n",
    "# cython: nonecheck=False\n",
    "# cython: boundscheck=False\n",
    "# cython: wraparound=False\n",
    "# distutils: extra_link_args = -fopenmp\n",
    "\n",
    "import numpy as np\n",
    "cimport numpy as np\n",
    "from libc.math cimport sqrt\n",
    "\n",
    "def c_cov1(const double[:]& X,\n",
    "          const double[:]& Y,\n",
    "          const double[:]& Z,\n",
    "          const double[:]& R):\n",
    "  \n",
    "    cdef long points = X.shape[0]\n",
    "    cdef double res\n",
    "    cdef long n\n",
    "    \n",
    "    cdef Py_ssize_t i,j\n",
    "    \n",
    "    n = 0\n",
    "    res = 0.\n",
    "    for i in range(points):\n",
    "        for j in range(i+1,points):\n",
    "            d = 1. - sqrt((X[i]-X[j])**2. +\n",
    "                          (Y[i]-Y[j])**2. +\n",
    "                          (Z[i]-Z[j])**2.) / (R[i]+R[j])\n",
    "            if d > 0:\n",
    "                res += d\n",
    "                n+= 1\n",
    "    if n>0:\n",
    "        return res/n\n",
    "    else:\n",
    "        return 0\n"
   ]
  },
  {
   "cell_type": "code",
   "execution_count": 9,
   "metadata": {},
   "outputs": [],
   "source": [
    "%%cython\n",
    "# cython: language_level=3\n",
    "# cython: initializedcheck=False\n",
    "# cython: binding=True\n",
    "# cython: nonecheck=False\n",
    "# cython: boundscheck=False\n",
    "# cython: wraparound=False\n",
    "# distutils: extra_link_args = -fopenmp\n",
    "\n",
    "import numpy as np\n",
    "cimport numpy as np\n",
    "from libc.math cimport sqrt\n",
    "\n",
    "def c_cov(const double[:, :]& X):\n",
    "  \n",
    "    cdef long points = X.shape[0]\n",
    "    cdef double res\n",
    "    cdef long n\n",
    "    \n",
    "    cdef Py_ssize_t i,j\n",
    "    \n",
    "    n = 0\n",
    "    res = 0.\n",
    "    for i in range(points):\n",
    "        for j in range(i+1,points):\n",
    "            d = 1. - sqrt((X[i,1]-X[j,1])**2. +\n",
    "                          (X[i,2]-X[j,2])**2. +\n",
    "                          (X[i,3]-X[j,3])**2.) / (X[i,4]+X[j,4])\n",
    "            if d > 0:\n",
    "                res += d\n",
    "                n+= 1\n",
    "    if n>0:\n",
    "        return res/n\n",
    "    else:\n",
    "        return 0\n"
   ]
  },
  {
   "cell_type": "code",
   "execution_count": 7,
   "metadata": {},
   "outputs": [],
   "source": [
    "from Analyze_cython import c_cov, c_cov1"
   ]
  },
  {
   "cell_type": "code",
   "execution_count": 12,
   "metadata": {},
   "outputs": [],
   "source": [
    "def compute_cov(group):\n",
    "    \"\"\"\n",
    "    Each group contains a number of spheres (x,y,z,r),\n",
    "    I want to compute the mean coverage\n",
    "    \"\"\"\n",
    "\n",
    "    n = len(group)\n",
    "\n",
    "    # if only one sphere, no coverage\n",
    "    if n == 1:\n",
    "        return 0.\n",
    "\n",
    "    # this statement alone cost 65% !\n",
    "    #data = group.values\n",
    "    X = group[\"Posx\"].values\n",
    "    Y = group[\"Posy\"].values\n",
    "    Z = group[\"Posz\"].values\n",
    "    R = group[\"Radius\"].values\n",
    "\n",
    "    # behind c_cov is a cython implementation of what is presented bellow\n",
    "    # the cython code is invisible to cProfile, so it's fast enough\n",
    "    return c_cov(X, Y, Z, R)\n",
    "\n",
    "    # for two different spheres in the group\n",
    "    X1, X2 = np.triu_indices_from(data.T, k=1)\n",
    "\n",
    "    # renaming things for readability\n",
    "    _, x1, y1, z1, r1 = data[X1].T\n",
    "    _, x2, y2, z2, r2 = data[X2].T\n",
    "\n",
    "    # my definition of coverage\n",
    "    cov = 1 - np.sqrt((x1-x2)**2 + (y1-y2)**2 + (z1-z2)**2) / (r1+r2)\n",
    "\n",
    "    # ignoring negative values (no contact)\n",
    "    cov = cov[cov > 0]\n",
    "\n",
    "    # Averaging\n",
    "    if cov.size > 0:\n",
    "        res = cov.mean()\n",
    "    else:\n",
    "        res = 0\n",
    "\n",
    "    return res\n"
   ]
  },
  {
   "cell_type": "code",
   "execution_count": 13,
   "metadata": {},
   "outputs": [
    {
     "name": "stdout",
     "output_type": "stream",
     "text": [
      "CPU times: user 37.4 ms, sys: 129 ms, total: 167 ms\n",
      "Wall time: 163 ms\n"
     ]
    }
   ],
   "source": [
    "%%time\n",
    "\n",
    "#import cProfile\n",
    "\n",
    "#%lprun -f compute_cov -f mycdist cov = Spheres.groupby(by=[\"Time\", \"Label\"]).apply(compute_cov)\n",
    "#%prun Spheres.groupby(by=[\"Time\", \"Label\"]).apply(compute_cov)\n",
    "#%timeit Spheres.groupby(by=[\"Time\", \"Label\"]).apply(compute_cov)\n",
    "Spheres1 = Spheres.reset_index(0)\n",
    "\n",
    "cov = Spheres.groupby(by=[\"Time\", \"Label\"]).apply(compute_cov, meta=(\"Cov\",\"f8\"))\n",
    "cov1 = Spheres1.groupby(by=[\"Time\", \"Label\"]).apply(compute_cov, meta=(\"Cov\",\"f8\"))\n",
    "\n",
    "#cProfile.run('Spheres.groupby(by=[\"Time\", \"Label\"]).apply(compute_cov)', \"test.pstats\")"
   ]
  },
  {
   "cell_type": "code",
   "execution_count": 31,
   "metadata": {},
   "outputs": [
    {
     "name": "stdout",
     "output_type": "stream",
     "text": [
      "CPU times: user 5min 22s, sys: 1min 59s, total: 7min 22s\n",
      "Wall time: 10min 48s\n"
     ]
    }
   ],
   "source": [
    "%%time\n",
    "res = cov.compute()"
   ]
  },
  {
   "cell_type": "code",
   "execution_count": 9,
   "metadata": {},
   "outputs": [
    {
     "ename": "KeyboardInterrupt",
     "evalue": "",
     "output_type": "error",
     "traceback": [
      "\u001b[0;31m---------------------------------------------------------------------------\u001b[0m",
      "\u001b[0;31mKeyboardInterrupt\u001b[0m                         Traceback (most recent call last)",
      "\u001b[0;32m<timed eval>\u001b[0m in \u001b[0;36m<module>\u001b[0;34m()\u001b[0m\n",
      "\u001b[0;32m~/DLCA-light/python-analysis/venv/lib64/python3.6/site-packages/dask/base.py\u001b[0m in \u001b[0;36mcompute\u001b[0;34m(self, **kwargs)\u001b[0m\n\u001b[1;32m    153\u001b[0m         \u001b[0mdask\u001b[0m\u001b[0;34m.\u001b[0m\u001b[0mbase\u001b[0m\u001b[0;34m.\u001b[0m\u001b[0mcompute\u001b[0m\u001b[0;34m\u001b[0m\u001b[0m\n\u001b[1;32m    154\u001b[0m         \"\"\"\n\u001b[0;32m--> 155\u001b[0;31m         \u001b[0;34m(\u001b[0m\u001b[0mresult\u001b[0m\u001b[0;34m,\u001b[0m\u001b[0;34m)\u001b[0m \u001b[0;34m=\u001b[0m \u001b[0mcompute\u001b[0m\u001b[0;34m(\u001b[0m\u001b[0mself\u001b[0m\u001b[0;34m,\u001b[0m \u001b[0mtraverse\u001b[0m\u001b[0;34m=\u001b[0m\u001b[0;32mFalse\u001b[0m\u001b[0;34m,\u001b[0m \u001b[0;34m**\u001b[0m\u001b[0mkwargs\u001b[0m\u001b[0;34m)\u001b[0m\u001b[0;34m\u001b[0m\u001b[0m\n\u001b[0m\u001b[1;32m    156\u001b[0m         \u001b[0;32mreturn\u001b[0m \u001b[0mresult\u001b[0m\u001b[0;34m\u001b[0m\u001b[0m\n\u001b[1;32m    157\u001b[0m \u001b[0;34m\u001b[0m\u001b[0m\n",
      "\u001b[0;32m~/DLCA-light/python-analysis/venv/lib64/python3.6/site-packages/dask/base.py\u001b[0m in \u001b[0;36mcompute\u001b[0;34m(*args, **kwargs)\u001b[0m\n\u001b[1;32m    402\u001b[0m     postcomputes = [a.__dask_postcompute__() if is_dask_collection(a)\n\u001b[1;32m    403\u001b[0m                     else (None, a) for a in args]\n\u001b[0;32m--> 404\u001b[0;31m     \u001b[0mresults\u001b[0m \u001b[0;34m=\u001b[0m \u001b[0mget\u001b[0m\u001b[0;34m(\u001b[0m\u001b[0mdsk\u001b[0m\u001b[0;34m,\u001b[0m \u001b[0mkeys\u001b[0m\u001b[0;34m,\u001b[0m \u001b[0;34m**\u001b[0m\u001b[0mkwargs\u001b[0m\u001b[0;34m)\u001b[0m\u001b[0;34m\u001b[0m\u001b[0m\n\u001b[0m\u001b[1;32m    405\u001b[0m     \u001b[0mresults_iter\u001b[0m \u001b[0;34m=\u001b[0m \u001b[0miter\u001b[0m\u001b[0;34m(\u001b[0m\u001b[0mresults\u001b[0m\u001b[0;34m)\u001b[0m\u001b[0;34m\u001b[0m\u001b[0m\n\u001b[1;32m    406\u001b[0m     return tuple(a if f is None else f(next(results_iter), *a)\n",
      "\u001b[0;32m~/DLCA-light/python-analysis/venv/lib64/python3.6/site-packages/distributed/client.py\u001b[0m in \u001b[0;36mget\u001b[0;34m(self, dsk, keys, restrictions, loose_restrictions, resources, sync, asynchronous, direct, retries, priority, fifo_timeout, **kwargs)\u001b[0m\n\u001b[1;32m   2089\u001b[0m             \u001b[0;32mtry\u001b[0m\u001b[0;34m:\u001b[0m\u001b[0;34m\u001b[0m\u001b[0m\n\u001b[1;32m   2090\u001b[0m                 results = self.gather(packed, asynchronous=asynchronous,\n\u001b[0;32m-> 2091\u001b[0;31m                                       direct=direct)\n\u001b[0m\u001b[1;32m   2092\u001b[0m             \u001b[0;32mfinally\u001b[0m\u001b[0;34m:\u001b[0m\u001b[0;34m\u001b[0m\u001b[0m\n\u001b[1;32m   2093\u001b[0m                 \u001b[0;32mfor\u001b[0m \u001b[0mf\u001b[0m \u001b[0;32min\u001b[0m \u001b[0mfutures\u001b[0m\u001b[0;34m.\u001b[0m\u001b[0mvalues\u001b[0m\u001b[0;34m(\u001b[0m\u001b[0;34m)\u001b[0m\u001b[0;34m:\u001b[0m\u001b[0;34m\u001b[0m\u001b[0m\n",
      "\u001b[0;32m~/DLCA-light/python-analysis/venv/lib64/python3.6/site-packages/distributed/client.py\u001b[0m in \u001b[0;36mgather\u001b[0;34m(self, futures, errors, maxsize, direct, asynchronous)\u001b[0m\n\u001b[1;32m   1501\u001b[0m             return self.sync(self._gather, futures, errors=errors,\n\u001b[1;32m   1502\u001b[0m                              \u001b[0mdirect\u001b[0m\u001b[0;34m=\u001b[0m\u001b[0mdirect\u001b[0m\u001b[0;34m,\u001b[0m \u001b[0mlocal_worker\u001b[0m\u001b[0;34m=\u001b[0m\u001b[0mlocal_worker\u001b[0m\u001b[0;34m,\u001b[0m\u001b[0;34m\u001b[0m\u001b[0m\n\u001b[0;32m-> 1503\u001b[0;31m                              asynchronous=asynchronous)\n\u001b[0m\u001b[1;32m   1504\u001b[0m \u001b[0;34m\u001b[0m\u001b[0m\n\u001b[1;32m   1505\u001b[0m     \u001b[0;34m@\u001b[0m\u001b[0mgen\u001b[0m\u001b[0;34m.\u001b[0m\u001b[0mcoroutine\u001b[0m\u001b[0;34m\u001b[0m\u001b[0m\n",
      "\u001b[0;32m~/DLCA-light/python-analysis/venv/lib64/python3.6/site-packages/distributed/client.py\u001b[0m in \u001b[0;36msync\u001b[0;34m(self, func, *args, **kwargs)\u001b[0m\n\u001b[1;32m    613\u001b[0m             \u001b[0;32mreturn\u001b[0m \u001b[0mfuture\u001b[0m\u001b[0;34m\u001b[0m\u001b[0m\n\u001b[1;32m    614\u001b[0m         \u001b[0;32melse\u001b[0m\u001b[0;34m:\u001b[0m\u001b[0;34m\u001b[0m\u001b[0m\n\u001b[0;32m--> 615\u001b[0;31m             \u001b[0;32mreturn\u001b[0m \u001b[0msync\u001b[0m\u001b[0;34m(\u001b[0m\u001b[0mself\u001b[0m\u001b[0;34m.\u001b[0m\u001b[0mloop\u001b[0m\u001b[0;34m,\u001b[0m \u001b[0mfunc\u001b[0m\u001b[0;34m,\u001b[0m \u001b[0;34m*\u001b[0m\u001b[0margs\u001b[0m\u001b[0;34m,\u001b[0m \u001b[0;34m**\u001b[0m\u001b[0mkwargs\u001b[0m\u001b[0;34m)\u001b[0m\u001b[0;34m\u001b[0m\u001b[0m\n\u001b[0m\u001b[1;32m    616\u001b[0m \u001b[0;34m\u001b[0m\u001b[0m\n\u001b[1;32m    617\u001b[0m     \u001b[0;32mdef\u001b[0m \u001b[0m__repr__\u001b[0m\u001b[0;34m(\u001b[0m\u001b[0mself\u001b[0m\u001b[0;34m)\u001b[0m\u001b[0;34m:\u001b[0m\u001b[0;34m\u001b[0m\u001b[0m\n",
      "\u001b[0;32m~/DLCA-light/python-analysis/venv/lib64/python3.6/site-packages/distributed/utils.py\u001b[0m in \u001b[0;36msync\u001b[0;34m(loop, func, *args, **kwargs)\u001b[0m\n\u001b[1;32m    249\u001b[0m     \u001b[0;32melse\u001b[0m\u001b[0;34m:\u001b[0m\u001b[0;34m\u001b[0m\u001b[0m\n\u001b[1;32m    250\u001b[0m         \u001b[0;32mwhile\u001b[0m \u001b[0;32mnot\u001b[0m \u001b[0me\u001b[0m\u001b[0;34m.\u001b[0m\u001b[0mis_set\u001b[0m\u001b[0;34m(\u001b[0m\u001b[0;34m)\u001b[0m\u001b[0;34m:\u001b[0m\u001b[0;34m\u001b[0m\u001b[0m\n\u001b[0;32m--> 251\u001b[0;31m             \u001b[0me\u001b[0m\u001b[0;34m.\u001b[0m\u001b[0mwait\u001b[0m\u001b[0;34m(\u001b[0m\u001b[0;36m10\u001b[0m\u001b[0;34m)\u001b[0m\u001b[0;34m\u001b[0m\u001b[0m\n\u001b[0m\u001b[1;32m    252\u001b[0m     \u001b[0;32mif\u001b[0m \u001b[0merror\u001b[0m\u001b[0;34m[\u001b[0m\u001b[0;36m0\u001b[0m\u001b[0;34m]\u001b[0m\u001b[0;34m:\u001b[0m\u001b[0;34m\u001b[0m\u001b[0m\n\u001b[1;32m    253\u001b[0m         \u001b[0msix\u001b[0m\u001b[0;34m.\u001b[0m\u001b[0mreraise\u001b[0m\u001b[0;34m(\u001b[0m\u001b[0;34m*\u001b[0m\u001b[0merror\u001b[0m\u001b[0;34m[\u001b[0m\u001b[0;36m0\u001b[0m\u001b[0;34m]\u001b[0m\u001b[0;34m)\u001b[0m\u001b[0;34m\u001b[0m\u001b[0m\n",
      "\u001b[0;32m/usr/lib64/python3.6/threading.py\u001b[0m in \u001b[0;36mwait\u001b[0;34m(self, timeout)\u001b[0m\n\u001b[1;32m    549\u001b[0m             \u001b[0msignaled\u001b[0m \u001b[0;34m=\u001b[0m \u001b[0mself\u001b[0m\u001b[0;34m.\u001b[0m\u001b[0m_flag\u001b[0m\u001b[0;34m\u001b[0m\u001b[0m\n\u001b[1;32m    550\u001b[0m             \u001b[0;32mif\u001b[0m \u001b[0;32mnot\u001b[0m \u001b[0msignaled\u001b[0m\u001b[0;34m:\u001b[0m\u001b[0;34m\u001b[0m\u001b[0m\n\u001b[0;32m--> 551\u001b[0;31m                 \u001b[0msignaled\u001b[0m \u001b[0;34m=\u001b[0m \u001b[0mself\u001b[0m\u001b[0;34m.\u001b[0m\u001b[0m_cond\u001b[0m\u001b[0;34m.\u001b[0m\u001b[0mwait\u001b[0m\u001b[0;34m(\u001b[0m\u001b[0mtimeout\u001b[0m\u001b[0;34m)\u001b[0m\u001b[0;34m\u001b[0m\u001b[0m\n\u001b[0m\u001b[1;32m    552\u001b[0m             \u001b[0;32mreturn\u001b[0m \u001b[0msignaled\u001b[0m\u001b[0;34m\u001b[0m\u001b[0m\n\u001b[1;32m    553\u001b[0m \u001b[0;34m\u001b[0m\u001b[0m\n",
      "\u001b[0;32m/usr/lib64/python3.6/threading.py\u001b[0m in \u001b[0;36mwait\u001b[0;34m(self, timeout)\u001b[0m\n\u001b[1;32m    297\u001b[0m             \u001b[0;32melse\u001b[0m\u001b[0;34m:\u001b[0m\u001b[0;34m\u001b[0m\u001b[0m\n\u001b[1;32m    298\u001b[0m                 \u001b[0;32mif\u001b[0m \u001b[0mtimeout\u001b[0m \u001b[0;34m>\u001b[0m \u001b[0;36m0\u001b[0m\u001b[0;34m:\u001b[0m\u001b[0;34m\u001b[0m\u001b[0m\n\u001b[0;32m--> 299\u001b[0;31m                     \u001b[0mgotit\u001b[0m \u001b[0;34m=\u001b[0m \u001b[0mwaiter\u001b[0m\u001b[0;34m.\u001b[0m\u001b[0macquire\u001b[0m\u001b[0;34m(\u001b[0m\u001b[0;32mTrue\u001b[0m\u001b[0;34m,\u001b[0m \u001b[0mtimeout\u001b[0m\u001b[0;34m)\u001b[0m\u001b[0;34m\u001b[0m\u001b[0m\n\u001b[0m\u001b[1;32m    300\u001b[0m                 \u001b[0;32melse\u001b[0m\u001b[0;34m:\u001b[0m\u001b[0;34m\u001b[0m\u001b[0m\n\u001b[1;32m    301\u001b[0m                     \u001b[0mgotit\u001b[0m \u001b[0;34m=\u001b[0m \u001b[0mwaiter\u001b[0m\u001b[0;34m.\u001b[0m\u001b[0macquire\u001b[0m\u001b[0;34m(\u001b[0m\u001b[0;32mFalse\u001b[0m\u001b[0;34m)\u001b[0m\u001b[0;34m\u001b[0m\u001b[0m\n",
      "\u001b[0;31mKeyboardInterrupt\u001b[0m: "
     ]
    }
   ],
   "source": [
    "%%time\n",
    "cov1.compute()"
   ]
  },
  {
   "cell_type": "code",
   "execution_count": null,
   "metadata": {
    "scrolled": true
   },
   "outputs": [
    {
     "name": "stdout",
     "output_type": "stream",
     "text": [
      "[####                                    ] | 11% Completed |  1min 21.1s"
     ]
    }
   ],
   "source": [
    "%%time\n",
    "from dask.diagnostics import ProgressBar\n",
    "with ProgressBar():\n",
    "    cov1.compute()"
   ]
  },
  {
   "cell_type": "code",
   "execution_count": 11,
   "metadata": {},
   "outputs": [
    {
     "name": "stdout",
     "output_type": "stream",
     "text": [
      "[########################################] | 100% Completed | 10min 16.5s\n",
      "CPU times: user 1min 17s, sys: 2min 44s, total: 4min 2s\n",
      "Wall time: 10min 25s\n"
     ]
    }
   ],
   "source": [
    "%%time\n",
    "from dask.diagnostics import ProgressBar\n",
    "with ProgressBar():\n",
    "    cov.compute()"
   ]
  },
  {
   "cell_type": "code",
   "execution_count": 16,
   "metadata": {},
   "outputs": [
    {
     "data": {
      "text/html": [
       "<div style=\"display: table;\"><div style=\"display: table-row;\"><div style=\"display: table-cell;\"><b title=\"bokeh.models.layouts.Column\">Column</b>(</div><div style=\"display: table-cell;\">id&nbsp;=&nbsp;'c6801e5d-d46f-4d2c-ba9a-80574bc29f6d', <span id=\"9e675f1f-7256-4542-80aa-920d2032a50d\" style=\"cursor: pointer;\">&hellip;)</span></div></div><div class=\"c9fcb81a-a1a2-4877-9616-0cf9fe5bc9cb\" style=\"display: none;\"><div style=\"display: table-cell;\"></div><div style=\"display: table-cell;\">children&nbsp;=&nbsp;[ToolbarBox(id='17e4bdd4-e356-4162-8e45-3fde9cfa59b0', ...), Column(id='c4c57383-b833-4250-aa8e-626fa0a67d79', ...)],</div></div><div class=\"c9fcb81a-a1a2-4877-9616-0cf9fe5bc9cb\" style=\"display: none;\"><div style=\"display: table-cell;\"></div><div style=\"display: table-cell;\">css_classes&nbsp;=&nbsp;[],</div></div><div class=\"c9fcb81a-a1a2-4877-9616-0cf9fe5bc9cb\" style=\"display: none;\"><div style=\"display: table-cell;\"></div><div style=\"display: table-cell;\">disabled&nbsp;=&nbsp;False,</div></div><div class=\"c9fcb81a-a1a2-4877-9616-0cf9fe5bc9cb\" style=\"display: none;\"><div style=\"display: table-cell;\"></div><div style=\"display: table-cell;\">height&nbsp;=&nbsp;None,</div></div><div class=\"c9fcb81a-a1a2-4877-9616-0cf9fe5bc9cb\" style=\"display: none;\"><div style=\"display: table-cell;\"></div><div style=\"display: table-cell;\">js_event_callbacks&nbsp;=&nbsp;{},</div></div><div class=\"c9fcb81a-a1a2-4877-9616-0cf9fe5bc9cb\" style=\"display: none;\"><div style=\"display: table-cell;\"></div><div style=\"display: table-cell;\">js_property_callbacks&nbsp;=&nbsp;{},</div></div><div class=\"c9fcb81a-a1a2-4877-9616-0cf9fe5bc9cb\" style=\"display: none;\"><div style=\"display: table-cell;\"></div><div style=\"display: table-cell;\">name&nbsp;=&nbsp;None,</div></div><div class=\"c9fcb81a-a1a2-4877-9616-0cf9fe5bc9cb\" style=\"display: none;\"><div style=\"display: table-cell;\"></div><div style=\"display: table-cell;\">sizing_mode&nbsp;=&nbsp;'fixed',</div></div><div class=\"c9fcb81a-a1a2-4877-9616-0cf9fe5bc9cb\" style=\"display: none;\"><div style=\"display: table-cell;\"></div><div style=\"display: table-cell;\">subscribed_events&nbsp;=&nbsp;[],</div></div><div class=\"c9fcb81a-a1a2-4877-9616-0cf9fe5bc9cb\" style=\"display: none;\"><div style=\"display: table-cell;\"></div><div style=\"display: table-cell;\">tags&nbsp;=&nbsp;[],</div></div><div class=\"c9fcb81a-a1a2-4877-9616-0cf9fe5bc9cb\" style=\"display: none;\"><div style=\"display: table-cell;\"></div><div style=\"display: table-cell;\">width&nbsp;=&nbsp;None)</div></div></div>\n",
       "<script>\n",
       "(function() {\n",
       "  var expanded = false;\n",
       "  var ellipsis = document.getElementById(\"9e675f1f-7256-4542-80aa-920d2032a50d\");\n",
       "  ellipsis.addEventListener(\"click\", function() {\n",
       "    var rows = document.getElementsByClassName(\"c9fcb81a-a1a2-4877-9616-0cf9fe5bc9cb\");\n",
       "    for (var i = 0; i < rows.length; i++) {\n",
       "      var el = rows[i];\n",
       "      el.style.display = expanded ? \"none\" : \"table-row\";\n",
       "    }\n",
       "    ellipsis.innerHTML = expanded ? \"&hellip;)\" : \"&lsaquo;&lsaquo;&lsaquo;\";\n",
       "    expanded = !expanded;\n",
       "  });\n",
       "})();\n",
       "</script>\n"
      ],
      "text/plain": [
       "Column(id='c6801e5d-d46f-4d2c-ba9a-80574bc29f6d', ...)"
      ]
     },
     "execution_count": 16,
     "metadata": {},
     "output_type": "execute_result"
    }
   ],
   "source": [
    "import dask.array as da\n",
    "from dask.diagnostics import Profiler, ResourceProfiler, CacheProfiler\n",
    "with Profiler() as prof, ResourceProfiler(dt=0.25) as rprof, CacheProfiler() as cprof:\n",
    "        cov.compute()\n",
    "\n",
    "from dask.diagnostics import visualize\n",
    "visualize([prof, rprof, cprof])\n"
   ]
  },
  {
   "cell_type": "code",
   "execution_count": 13,
   "metadata": {},
   "outputs": [
    {
     "name": "stdout",
     "output_type": "stream",
     "text": [
      "315 ms ± 19.6 ms per loop (mean ± std. dev. of 7 runs, 1 loop each)\n"
     ]
    }
   ],
   "source": [
    "%timeit cov.compute()"
   ]
  },
  {
   "cell_type": "code",
   "execution_count": 14,
   "metadata": {},
   "outputs": [],
   "source": [
    "import pandas as pd\n",
    "simu = DLCA(Path(\"data_small/\"))"
   ]
  },
  {
   "cell_type": "code",
   "execution_count": 15,
   "metadata": {},
   "outputs": [],
   "source": [
    "simu.read_metadata()"
   ]
  },
  {
   "cell_type": "code",
   "execution_count": null,
   "metadata": {},
   "outputs": [],
   "source": []
  },
  {
   "cell_type": "code",
   "execution_count": null,
   "metadata": {},
   "outputs": [],
   "source": []
  },
  {
   "cell_type": "code",
   "execution_count": null,
   "metadata": {},
   "outputs": [],
   "source": []
  },
  {
   "cell_type": "code",
   "execution_count": null,
   "metadata": {},
   "outputs": [],
   "source": []
  },
  {
   "cell_type": "code",
   "execution_count": 20,
   "metadata": {
    "scrolled": true
   },
   "outputs": [
    {
     "name": "stdout",
     "output_type": "stream",
     "text": [
      "              Label          Posx          Posy          Posz        Radius\n",
      "Time     Num                                                               \n",
      "0.000000 0        0  3.386984e-07  1.589845e-07  3.156847e-07  6.025496e-09\n",
      "         1        1  3.675054e-07  7.963736e-08  1.351358e-07  5.888543e-09\n",
      "         2        2  1.119772e-07  2.233176e-07  1.924494e-07  5.380718e-09\n",
      "         3        3  1.470528e-07  2.069633e-07  3.838650e-07  6.802969e-09\n",
      "         4        4  2.562696e-07  2.891584e-07  5.708315e-08  5.312195e-09\n",
      "         5        5  6.571124e-09  9.791307e-08  5.532111e-08  6.053221e-09\n",
      "         6        6  6.316083e-08  1.616296e-07  5.232142e-08  3.797439e-09\n",
      "         7        7  4.026887e-07  8.798422e-08  2.067745e-07  6.237204e-09\n",
      "         8        8  2.469688e-07  1.193369e-07  2.570115e-07  5.068430e-09\n",
      "         9        9  1.989743e-07  3.921473e-07  1.179200e-07  5.902088e-09\n",
      "         10      10  2.123426e-07  3.103694e-07  1.613411e-07  6.586051e-09\n",
      "         11      11  1.142105e-07  1.420838e-07  3.256118e-07  6.831307e-09\n",
      "         12      12  2.811991e-08  3.826949e-07  2.120404e-07  3.686755e-09\n",
      "         13      13  7.748568e-08  2.673616e-07  3.588726e-07  4.584994e-09\n",
      "         14      14  2.586889e-08  8.071737e-09  1.845098e-07  3.554399e-09\n",
      "         15      15  9.605596e-08  3.912842e-07  3.637002e-07  6.306579e-09\n",
      "         16      16  1.074989e-07  2.175894e-07  1.512543e-07  5.854575e-09\n",
      "         17      17  2.066144e-07  2.691743e-07  2.143024e-07  3.376725e-09\n",
      "         18      18  1.764215e-07  3.756435e-07  3.752302e-07  5.698067e-09\n",
      "         19      19  1.146050e-07  2.977196e-07  2.579897e-07  4.599236e-09\n",
      "         20      20  2.772923e-07  6.690789e-08  1.774159e-07  6.499418e-09\n",
      "         21      21  3.342694e-07  1.331663e-07  9.230217e-08  6.600707e-09\n",
      "         22      22  1.412380e-07  2.768119e-07  3.855737e-07  5.256329e-09\n",
      "         23      23  2.649739e-07  3.461516e-07  1.771964e-07  6.882931e-09\n",
      "         24      24  1.606187e-07  3.284507e-07  2.758237e-07  6.752818e-09\n",
      "         25      25  1.945027e-07  8.700385e-08  3.830679e-07  6.842569e-09\n",
      "         26      26  5.952504e-08  3.551758e-07  2.584339e-07  4.812374e-09\n",
      "         27      27  2.497732e-07  1.133013e-07  3.168550e-07  4.469074e-09\n",
      "         28      28  1.802092e-07  9.114862e-08  7.559878e-08  4.379245e-09\n",
      "         29      29  2.243149e-07  1.679009e-07  6.837240e-08  6.714596e-09\n",
      "...             ...           ...           ...           ...           ...\n",
      "0.000003 70       0  1.278495e-07  2.375712e-07  1.663126e-08  4.536631e-09\n",
      "         71       1  3.660745e-07  1.562219e-07  1.063525e-07  6.830331e-09\n",
      "         72       0  6.141226e-08  2.245705e-07 -3.504173e-08  5.570172e-09\n",
      "         73       0  6.176349e-08  1.768351e-07 -1.878997e-08  6.803737e-09\n",
      "         74       0  3.724008e-08  1.716644e-07 -2.092554e-08  5.136516e-09\n",
      "         75       0  1.314168e-07  2.360284e-07  2.691397e-08  6.456112e-09\n",
      "         76       0  5.845132e-08  2.155723e-07 -3.202164e-08  4.372447e-09\n",
      "         77       0  6.260762e-08  1.898116e-07 -2.036060e-08  6.294658e-09\n",
      "         78       0  5.870803e-08  1.600778e-07 -2.961800e-08  5.564551e-09\n",
      "         79       0  9.130520e-08  2.381047e-07 -3.473163e-08  4.978849e-09\n",
      "         80       1  3.959347e-07  1.558427e-07  1.019283e-07  4.214814e-09\n",
      "         81       0  8.323550e-08  2.358459e-07 -3.005664e-08  4.616857e-09\n",
      "         82       0  1.232102e-07  2.407576e-07  3.397732e-08  5.359298e-09\n",
      "         83       0  5.662502e-08  2.118005e-07 -2.063705e-08  4.546367e-09\n",
      "         84       0  1.135318e-07  2.240874e-07 -2.560423e-08  4.328089e-09\n",
      "         85       0  7.204258e-08  2.010134e-07 -3.487838e-08  5.439786e-09\n",
      "         86       0  1.278136e-07  2.104107e-07  2.828027e-10  3.712955e-09\n",
      "         87       0  1.202827e-07  2.116802e-07 -1.142444e-08  4.347568e-09\n",
      "         88       1  3.469586e-07  1.382176e-07  9.114768e-08  3.994887e-09\n",
      "         89       1  3.763531e-07  1.490025e-07  9.602604e-08  4.169581e-09\n",
      "         90       1  3.528888e-07  1.445890e-07  9.125105e-08  4.709859e-09\n",
      "         91       0  1.327863e-07  1.984836e-07 -1.740811e-08  5.412026e-09\n",
      "         92       0  7.726591e-08  1.933702e-07 -3.621201e-08  3.913367e-09\n",
      "         93       0  1.122231e-07  2.435780e-07 -2.710722e-08  5.915332e-09\n",
      "         94       0  1.085695e-07  2.327729e-07 -2.492152e-08  5.698270e-09\n",
      "         95       0  1.369983e-07  2.549795e-07 -6.333421e-08  5.649468e-09\n",
      "         96       0  1.430033e-07  1.995499e-07 -9.115494e-09  3.726830e-09\n",
      "         97       0  9.940096e-08  2.317013e-07  2.647245e-09  5.472444e-09\n",
      "         98       1  3.593535e-07  1.451526e-07  9.626210e-08  3.488982e-09\n",
      "         99       0  1.526954e-07  2.533845e-07 -4.934458e-08  4.841371e-09\n",
      "\n",
      "[9900 rows x 5 columns]\n"
     ]
    }
   ],
   "source": [
    "print(Spheres)"
   ]
  },
  {
   "cell_type": "code",
   "execution_count": 27,
   "metadata": {},
   "outputs": [],
   "source": [
    "Spheres.to_hdf(\"data.h5\", key=\"spheres\", mode='w')\n",
    "Aggregates.to_hdf(\"data.h5\", key=\"aggregats\", mode='a')"
   ]
  },
  {
   "cell_type": "code",
   "execution_count": 28,
   "metadata": {
    "scrolled": true
   },
   "outputs": [
    {
     "name": "stdout",
     "output_type": "stream",
     "text": [
      "              Label          Posx          Posy          Posz        Radius\n",
      "Time     Num                                                               \n",
      "0.000000 0        0  3.386984e-07  1.589845e-07  3.156847e-07  6.025496e-09\n",
      "         1        1  3.675054e-07  7.963736e-08  1.351358e-07  5.888543e-09\n",
      "         2        2  1.119772e-07  2.233176e-07  1.924494e-07  5.380718e-09\n",
      "         3        3  1.470528e-07  2.069633e-07  3.838650e-07  6.802969e-09\n",
      "         4        4  2.562696e-07  2.891584e-07  5.708315e-08  5.312195e-09\n",
      "         5        5  6.571124e-09  9.791307e-08  5.532111e-08  6.053221e-09\n",
      "         6        6  6.316083e-08  1.616296e-07  5.232142e-08  3.797439e-09\n",
      "         7        7  4.026887e-07  8.798422e-08  2.067745e-07  6.237204e-09\n",
      "         8        8  2.469688e-07  1.193369e-07  2.570115e-07  5.068430e-09\n",
      "         9        9  1.989743e-07  3.921473e-07  1.179200e-07  5.902088e-09\n",
      "         10      10  2.123426e-07  3.103694e-07  1.613411e-07  6.586051e-09\n",
      "         11      11  1.142105e-07  1.420838e-07  3.256118e-07  6.831307e-09\n",
      "         12      12  2.811991e-08  3.826949e-07  2.120404e-07  3.686755e-09\n",
      "         13      13  7.748568e-08  2.673616e-07  3.588726e-07  4.584994e-09\n",
      "         14      14  2.586889e-08  8.071737e-09  1.845098e-07  3.554399e-09\n",
      "         15      15  9.605596e-08  3.912842e-07  3.637002e-07  6.306579e-09\n",
      "         16      16  1.074989e-07  2.175894e-07  1.512543e-07  5.854575e-09\n",
      "         17      17  2.066144e-07  2.691743e-07  2.143024e-07  3.376725e-09\n",
      "         18      18  1.764215e-07  3.756435e-07  3.752302e-07  5.698067e-09\n",
      "         19      19  1.146050e-07  2.977196e-07  2.579897e-07  4.599236e-09\n",
      "         20      20  2.772923e-07  6.690789e-08  1.774159e-07  6.499418e-09\n",
      "         21      21  3.342694e-07  1.331663e-07  9.230217e-08  6.600707e-09\n",
      "         22      22  1.412380e-07  2.768119e-07  3.855737e-07  5.256329e-09\n",
      "         23      23  2.649739e-07  3.461516e-07  1.771964e-07  6.882931e-09\n",
      "         24      24  1.606187e-07  3.284507e-07  2.758237e-07  6.752818e-09\n",
      "         25      25  1.945027e-07  8.700385e-08  3.830679e-07  6.842569e-09\n",
      "         26      26  5.952504e-08  3.551758e-07  2.584339e-07  4.812374e-09\n",
      "         27      27  2.497732e-07  1.133013e-07  3.168550e-07  4.469074e-09\n",
      "         28      28  1.802092e-07  9.114862e-08  7.559878e-08  4.379245e-09\n",
      "         29      29  2.243149e-07  1.679009e-07  6.837240e-08  6.714596e-09\n",
      "...             ...           ...           ...           ...           ...\n",
      "0.000003 70       0  1.278495e-07  2.375712e-07  1.663126e-08  4.536631e-09\n",
      "         71       1  3.660745e-07  1.562219e-07  1.063525e-07  6.830331e-09\n",
      "         72       0  6.141226e-08  2.245705e-07 -3.504173e-08  5.570172e-09\n",
      "         73       0  6.176349e-08  1.768351e-07 -1.878997e-08  6.803737e-09\n",
      "         74       0  3.724008e-08  1.716644e-07 -2.092554e-08  5.136516e-09\n",
      "         75       0  1.314168e-07  2.360284e-07  2.691397e-08  6.456112e-09\n",
      "         76       0  5.845132e-08  2.155723e-07 -3.202164e-08  4.372447e-09\n",
      "         77       0  6.260762e-08  1.898116e-07 -2.036060e-08  6.294658e-09\n",
      "         78       0  5.870803e-08  1.600778e-07 -2.961800e-08  5.564551e-09\n",
      "         79       0  9.130520e-08  2.381047e-07 -3.473163e-08  4.978849e-09\n",
      "         80       1  3.959347e-07  1.558427e-07  1.019283e-07  4.214814e-09\n",
      "         81       0  8.323550e-08  2.358459e-07 -3.005664e-08  4.616857e-09\n",
      "         82       0  1.232102e-07  2.407576e-07  3.397732e-08  5.359298e-09\n",
      "         83       0  5.662502e-08  2.118005e-07 -2.063705e-08  4.546367e-09\n",
      "         84       0  1.135318e-07  2.240874e-07 -2.560423e-08  4.328089e-09\n",
      "         85       0  7.204258e-08  2.010134e-07 -3.487838e-08  5.439786e-09\n",
      "         86       0  1.278136e-07  2.104107e-07  2.828027e-10  3.712955e-09\n",
      "         87       0  1.202827e-07  2.116802e-07 -1.142444e-08  4.347568e-09\n",
      "         88       1  3.469586e-07  1.382176e-07  9.114768e-08  3.994887e-09\n",
      "         89       1  3.763531e-07  1.490025e-07  9.602604e-08  4.169581e-09\n",
      "         90       1  3.528888e-07  1.445890e-07  9.125105e-08  4.709859e-09\n",
      "         91       0  1.327863e-07  1.984836e-07 -1.740811e-08  5.412026e-09\n",
      "         92       0  7.726591e-08  1.933702e-07 -3.621201e-08  3.913367e-09\n",
      "         93       0  1.122231e-07  2.435780e-07 -2.710722e-08  5.915332e-09\n",
      "         94       0  1.085695e-07  2.327729e-07 -2.492152e-08  5.698270e-09\n",
      "         95       0  1.369983e-07  2.549795e-07 -6.333421e-08  5.649468e-09\n",
      "         96       0  1.430033e-07  1.995499e-07 -9.115494e-09  3.726830e-09\n",
      "         97       0  9.940096e-08  2.317013e-07  2.647245e-09  5.472444e-09\n",
      "         98       1  3.593535e-07  1.451526e-07  9.626210e-08  3.488982e-09\n",
      "         99       0  1.526954e-07  2.533845e-07 -4.934458e-08  4.841371e-09\n",
      "\n",
      "[9900 rows x 5 columns]\n"
     ]
    }
   ],
   "source": [
    "print(pd.read_hdf(\"data.h5\", key=\"spheres\"))\n"
   ]
  },
  {
   "cell_type": "code",
   "execution_count": 29,
   "metadata": {
    "scrolled": true
   },
   "outputs": [
    {
     "name": "stdout",
     "output_type": "stream",
     "text": [
      "                      Deltat            Dm  Np          Posx          Posy  \\\n",
      "Time     Label                                                               \n",
      "0.000000 0      4.329293e-08  1.101216e-08   1  3.386984e-07  1.589845e-07   \n",
      "         1      4.134729e-08  1.088611e-08   1  3.675054e-07  7.963736e-08   \n",
      "         2      3.452327e-08  1.040546e-08   1  1.119772e-07  2.233176e-07   \n",
      "         3      5.518594e-08  1.170213e-08   1  1.470528e-07  2.069633e-07   \n",
      "         4      3.364957e-08  1.033891e-08   1  2.562696e-07  2.891584e-07   \n",
      "         5      4.369226e-08  1.103750e-08   1  6.571124e-09  9.791307e-08   \n",
      "         6      1.719543e-08  8.739596e-09   1  6.316083e-08  1.616296e-07   \n",
      "         7      4.638861e-08  1.120423e-08   1  4.026887e-07  8.798422e-08   \n",
      "         8      3.063221e-08  1.009858e-08   1  2.469688e-07  1.193369e-07   \n",
      "         9      4.153773e-08  1.089864e-08   1  1.989743e-07  3.921473e-07   \n",
      "         10     5.172274e-08  1.151377e-08   1  2.123426e-07  3.103694e-07   \n",
      "         11     5.564665e-08  1.172652e-08   1  1.142105e-07  1.420838e-07   \n",
      "         12     1.620764e-08  8.611141e-09   1  2.811991e-08  3.826949e-07   \n",
      "         13     2.506738e-08  9.604280e-09   1  7.748568e-08  2.673616e-07   \n",
      "         14     1.506481e-08  8.454982e-09   1  2.586889e-08  8.071737e-09   \n",
      "         15     4.742629e-08  1.126646e-08   1  9.605596e-08  3.912842e-07   \n",
      "         16     4.087164e-08  1.085462e-08   1  1.074989e-07  2.175894e-07   \n",
      "         17     1.359636e-08  8.240721e-09   1  2.066144e-07  2.691743e-07   \n",
      "         18     3.871565e-08  1.070835e-08   1  1.764215e-07  3.756435e-07   \n",
      "         19     2.522335e-08  9.619204e-09   1  1.146050e-07  2.977196e-07   \n",
      "         20     5.037097e-08  1.143768e-08   1  2.772923e-07  6.690789e-08   \n",
      "         21     5.195320e-08  1.152659e-08   1  3.342694e-07  1.331663e-07   \n",
      "         22     3.294553e-08  1.028432e-08   1  1.412380e-07  2.768119e-07   \n",
      "         23     5.649086e-08  1.177081e-08   1  2.649739e-07  3.461516e-07   \n",
      "         24     5.437527e-08  1.165885e-08   1  1.606187e-07  3.284507e-07   \n",
      "         25     5.583027e-08  1.173619e-08   1  1.945027e-07  8.700385e-08   \n",
      "         26     2.761532e-08  9.839853e-09   1  5.952504e-08  3.551758e-07   \n",
      "         27     2.381588e-08  9.481940e-09   1  2.497732e-07  1.133013e-07   \n",
      "         28     2.286809e-08  9.386044e-09   1  1.802092e-07  9.114862e-08   \n",
      "         29     5.376147e-08  1.162576e-08   1  2.243149e-07  1.679009e-07   \n",
      "...                      ...           ...  ..           ...           ...   \n",
      "0.000001 5      1.359636e-08  8.240721e-09   1  6.981187e-08  2.393745e-08   \n",
      "         6      6.424079e-08  2.582968e-08  10  1.450589e-07  1.443732e-07   \n",
      "         7      4.576031e-08  1.490241e-08   2  1.499403e-07  9.413377e-08   \n",
      "         0      7.452620e-08  3.257860e-08  21  2.146773e-07  3.402485e-07   \n",
      "         1      6.020332e-08  4.633808e-08  32  2.023759e-07  4.047216e-08   \n",
      "         2      5.784404e-08  3.225272e-08  20  2.383669e-07  1.336554e-07   \n",
      "         3      6.532564e-08  3.020806e-08  14  4.030137e-07  4.001987e-07   \n",
      "         4      1.359636e-08  8.240721e-09   1  3.313981e-09  6.390812e-08   \n",
      "         5      6.424079e-08  2.582968e-08  10  1.366497e-07  1.049548e-07   \n",
      "         6      4.576031e-08  1.490241e-08   2  2.260509e-07  3.641103e-07   \n",
      "         0      7.452620e-08  3.257860e-08  21  2.150121e-07  3.186074e-07   \n",
      "         1      6.964388e-08  5.215527e-08  46  3.403839e-08  2.406394e-08   \n",
      "         2      5.784404e-08  3.225272e-08  20  2.332330e-07  1.469194e-07   \n",
      "         3      1.359636e-08  8.240721e-09   1  1.551408e-07  3.463602e-07   \n",
      "         4      6.424079e-08  2.582968e-08  10  1.923835e-07  5.964241e-08   \n",
      "         5      4.576031e-08  1.490241e-08   2  2.260509e-07  3.641103e-07   \n",
      "0.000002 0      7.452620e-08  3.257860e-08  21  3.570288e-07  3.442216e-07   \n",
      "         1      7.382331e-08  5.616380e-08  56  3.646354e-07  3.153704e-07   \n",
      "         2      5.784404e-08  3.225272e-08  20  3.107022e-08  5.989842e-08   \n",
      "         3      1.359636e-08  8.240721e-09   1  8.257406e-08  3.578551e-07   \n",
      "         4      4.576031e-08  1.490241e-08   2  1.756036e-07  7.994441e-09   \n",
      "         0      7.452620e-08  3.257860e-08  21  3.916146e-07  1.749106e-07   \n",
      "         1      7.386542e-08  5.626119e-08  57  4.036707e-08  9.515044e-08   \n",
      "         2      5.784404e-08  3.225272e-08  20  7.618521e-09  3.725503e-07   \n",
      "         3      4.576031e-08  1.490241e-08   2  3.831073e-07  3.340672e-07   \n",
      "         0      7.724314e-08  3.400982e-08  23  1.511641e-07  1.362864e-07   \n",
      "         1      7.386542e-08  5.626119e-08  57  4.413955e-08  1.740302e-07   \n",
      "         2      5.784404e-08  3.225272e-08  20  2.733715e-07  3.734784e-07   \n",
      "0.000003 0      9.777424e-08  5.754842e-08  80  9.948963e-08  2.192705e-07   \n",
      "         1      5.784404e-08  3.225272e-08  20  3.732783e-07  1.535695e-07   \n",
      "\n",
      "                        Posz            Rg          Rmax       Surface  \\\n",
      "Time     Label                                                           \n",
      "0.000000 0      3.156847e-07  4.667329e-09  6.025496e-09  4.562422e-16   \n",
      "         1      1.351358e-07  4.561246e-09  5.888543e-09  4.357381e-16   \n",
      "         2      1.924494e-07  4.167887e-09  5.380718e-09  3.638232e-16   \n",
      "         3      3.838650e-07  5.269557e-09  6.802969e-09  5.815766e-16   \n",
      "         4      5.708315e-08  4.114809e-09  5.312195e-09  3.546157e-16   \n",
      "         5      5.532111e-08  4.688805e-09  6.053221e-09  4.604505e-16   \n",
      "         6      5.232142e-08  2.941484e-09  3.797439e-09  1.812139e-16   \n",
      "         7      2.067745e-07  4.831318e-09  6.237204e-09  4.888660e-16   \n",
      "         8      2.570115e-07  3.925989e-09  5.068430e-09  3.228172e-16   \n",
      "         9      1.179200e-07  4.571738e-09  5.902088e-09  4.377451e-16   \n",
      "         10     1.613411e-07  5.101533e-09  6.586051e-09  5.450797e-16   \n",
      "         11     3.256118e-07  5.291508e-09  6.831307e-09  5.864317e-16   \n",
      "         12     2.120404e-07  2.855748e-09  3.686755e-09  1.708041e-16   \n",
      "         13     3.588726e-07  3.551521e-09  4.584994e-09  2.641724e-16   \n",
      "         14     1.845098e-07  2.753225e-09  3.554399e-09  1.587604e-16   \n",
      "         15     3.637002e-07  4.885055e-09  6.306579e-09  4.998015e-16   \n",
      "         16     1.512543e-07  4.534934e-09  5.854575e-09  4.307255e-16   \n",
      "         17     2.143024e-07  2.615600e-09  3.376725e-09  1.432852e-16   \n",
      "         18     3.752302e-07  4.413704e-09  5.698067e-09  4.080046e-16   \n",
      "         19     2.579897e-07  3.562553e-09  4.599236e-09  2.658161e-16   \n",
      "         20     1.774159e-07  5.034427e-09  6.499418e-09  5.308340e-16   \n",
      "         21     9.230217e-08  5.112885e-09  6.600707e-09  5.475083e-16   \n",
      "         22     3.855737e-07  4.071535e-09  5.256329e-09  3.471962e-16   \n",
      "         23     1.771964e-07  5.331495e-09  6.882931e-09  5.953285e-16   \n",
      "         24     2.758237e-07  5.230710e-09  6.752818e-09  5.730333e-16   \n",
      "         25     3.830679e-07  5.300231e-09  6.842569e-09  5.883668e-16   \n",
      "         26     2.584339e-07  3.727649e-09  4.812374e-09  2.910238e-16   \n",
      "         27     3.168550e-07  3.461730e-09  4.469074e-09  2.509834e-16   \n",
      "         28     7.559878e-08  3.392149e-09  4.379245e-09  2.409952e-16   \n",
      "         29     6.837240e-08  5.201104e-09  6.714596e-09  5.665649e-16   \n",
      "...                      ...           ...           ...           ...   \n",
      "0.000001 5      3.357631e-07  2.615600e-09  3.376725e-09  1.432852e-16   \n",
      "         6      2.104101e-07  1.577064e-08  2.741858e-08  3.896547e-15   \n",
      "         7      1.367426e-07  7.381980e-09  1.287537e-08  8.847160e-16   \n",
      "         0      2.553885e-07  2.143002e-08  4.219883e-08  7.293507e-15   \n",
      "         1      3.327089e-07  3.953644e-08  6.916726e-08  1.184873e-14   \n",
      "         2      3.277796e-07  2.122160e-08  3.892364e-08  5.914707e-15   \n",
      "         3      3.888345e-07  2.007520e-08  3.627602e-08  5.332641e-15   \n",
      "         4      3.944461e-07  2.615600e-09  3.376725e-09  1.432852e-16   \n",
      "         5      3.398919e-07  1.577064e-08  2.741858e-08  3.896547e-15   \n",
      "         6      3.815686e-07  7.381980e-09  1.287537e-08  8.847160e-16   \n",
      "         0      2.799475e-07  2.143002e-08  4.219883e-08  7.293507e-15   \n",
      "         1      3.762074e-07  4.633713e-08  8.062368e-08  1.718137e-14   \n",
      "         2      2.256212e-07  2.122160e-08  3.892364e-08  5.914707e-15   \n",
      "         3      3.732875e-07  2.615600e-09  3.376725e-09  1.432852e-16   \n",
      "         4      1.407846e-07  1.577064e-08  2.741858e-08  3.896547e-15   \n",
      "         5      3.815686e-07  7.381980e-09  1.287537e-08  8.847160e-16   \n",
      "0.000002 0      8.144876e-08  2.143002e-08  4.219883e-08  7.293507e-15   \n",
      "         1      3.442247e-07  5.150237e-08  9.331438e-08  2.107792e-14   \n",
      "         2      2.614119e-07  2.122160e-08  3.892364e-08  5.914707e-15   \n",
      "         3      3.687563e-07  2.615600e-09  3.376725e-09  1.432852e-16   \n",
      "         4      2.489453e-07  7.381980e-09  1.287537e-08  8.847160e-16   \n",
      "         0      3.596774e-07  2.143002e-08  4.219883e-08  7.293507e-15   \n",
      "         1      3.167475e-07  5.148803e-08  9.348013e-08  2.122120e-14   \n",
      "         2      1.068268e-07  2.122160e-08  3.892364e-08  5.914707e-15   \n",
      "         3      3.538093e-07  7.381980e-09  1.287537e-08  8.847160e-16   \n",
      "         0      1.115728e-07  2.290351e-08  4.385048e-08  8.178223e-15   \n",
      "         1      3.519718e-07  5.148803e-08  9.348013e-08  2.122120e-14   \n",
      "         2      1.781792e-07  2.122160e-08  3.892364e-08  5.914707e-15   \n",
      "0.000003 0      3.798334e-07  5.015175e-08  9.237439e-08  2.939942e-14   \n",
      "         1      1.023360e-07  2.122160e-08  3.892364e-08  5.914707e-15   \n",
      "\n",
      "                      Volume           lpm  \n",
      "Time     Label                              \n",
      "0.000000 0      9.163619e-25  2.606064e-07  \n",
      "         1      8.552875e-25  2.576278e-07  \n",
      "         2      6.525434e-25  2.462685e-07  \n",
      "         3      1.318816e-24  2.769096e-07  \n",
      "         4      6.279293e-25  2.446954e-07  \n",
      "         5      9.290695e-25  2.612053e-07  \n",
      "         6      2.293829e-25  2.068874e-07  \n",
      "         7      1.016386e-24  2.651452e-07  \n",
      "         8      5.453922e-25  2.390152e-07  \n",
      "         9      8.612033e-25  2.579239e-07  \n",
      "         10     1.196641e-24  2.724591e-07  \n",
      "         11     1.335365e-24  2.774857e-07  \n",
      "         12     2.099043e-25  2.038501e-07  \n",
      "         13     4.037429e-25  2.273307e-07  \n",
      "         14     1.880992e-25  2.001575e-07  \n",
      "         15     1.050679e-24  2.666157e-07  \n",
      "         16     8.405715e-25  2.568836e-07  \n",
      "         17     1.612782e-25  1.950907e-07  \n",
      "         18     7.749458e-25  2.534268e-07  \n",
      "         19     4.075169e-25  2.276835e-07  \n",
      "         20     1.150037e-24  2.706612e-07  \n",
      "         21     1.204647e-24  2.727621e-07  \n",
      "         22     6.083257e-25  2.434053e-07  \n",
      "         23     1.365868e-24  2.785322e-07  \n",
      "         24     1.289863e-24  2.758870e-07  \n",
      "         25     1.341980e-24  2.777143e-07  \n",
      "         26     4.668384e-25  2.328994e-07  \n",
      "         27     3.738878e-25  2.244386e-07  \n",
      "         28     3.517923e-25  2.221715e-07  \n",
      "         29     1.268085e-24  2.751051e-07  \n",
      "...                      ...           ...  \n",
      "0.000001 5      1.612782e-25  1.950907e-07  \n",
      "         6      7.451469e-24  1.356100e-07  \n",
      "         7      1.771983e-24  1.980892e-07  \n",
      "         0      1.372711e-23  1.159100e-07  \n",
      "         1      2.235018e-23  7.338065e-08  \n",
      "         2      1.044323e-23  1.031438e-07  \n",
      "         3      1.035171e-23  1.169982e-07  \n",
      "         4      1.612782e-25  1.950907e-07  \n",
      "         5      7.451469e-24  1.356100e-07  \n",
      "         6      1.771983e-24  1.980892e-07  \n",
      "         0      1.372711e-23  1.159100e-07  \n",
      "         1      3.270189e-23  7.017755e-08  \n",
      "         2      1.044323e-23  1.031438e-07  \n",
      "         3      1.612782e-25  1.950907e-07  \n",
      "         4      7.451469e-24  1.356100e-07  \n",
      "         5      1.771983e-24  1.980892e-07  \n",
      "0.000002 0      1.372711e-23  1.159100e-07  \n",
      "         1      4.015336e-23  6.713272e-08  \n",
      "         2      1.044323e-23  1.031438e-07  \n",
      "         3      1.612782e-25  1.950907e-07  \n",
      "         4      1.771983e-24  1.980892e-07  \n",
      "         0      1.372711e-23  1.159100e-07  \n",
      "         1      4.031464e-23  6.703652e-08  \n",
      "         2      1.044323e-23  1.031438e-07  \n",
      "         3      1.771983e-24  1.980892e-07  \n",
      "         0      1.549909e-23  1.130598e-07  \n",
      "         1      4.031464e-23  6.703652e-08  \n",
      "         2      1.044323e-23  1.031438e-07  \n",
      "0.000003 0      5.581373e-23  7.541463e-08  \n",
      "         1      1.044323e-23  1.031438e-07  \n",
      "\n",
      "[5049 rows x 11 columns]\n"
     ]
    }
   ],
   "source": [
    "print(pd.read_hdf(\"data.h5\", key=\"aggregats\"))"
   ]
  },
  {
   "cell_type": "code",
   "execution_count": null,
   "metadata": {},
   "outputs": [],
   "source": []
  }
 ],
 "metadata": {
  "kernelspec": {
   "display_name": "Python 3",
   "language": "python",
   "name": "python3"
  },
  "language_info": {
   "codemirror_mode": {
    "name": "ipython",
    "version": 3
   },
   "file_extension": ".py",
   "mimetype": "text/x-python",
   "name": "python",
   "nbconvert_exporter": "python",
   "pygments_lexer": "ipython3",
   "version": "3.6.3"
  },
  "toc": {
   "base_numbering": 1,
   "nav_menu": {},
   "number_sections": true,
   "sideBar": false,
   "skip_h1_title": false,
   "title_cell": "Table of Contents",
   "title_sidebar": "Contents",
   "toc_cell": false,
   "toc_position": {},
   "toc_section_display": true,
   "toc_window_display": false
  }
 },
 "nbformat": 4,
 "nbformat_minor": 2
}
